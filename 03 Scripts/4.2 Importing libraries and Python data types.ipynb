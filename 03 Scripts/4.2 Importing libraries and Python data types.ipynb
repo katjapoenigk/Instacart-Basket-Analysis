{
 "cells": [
  {
   "cell_type": "markdown",
   "id": "a42f5c23",
   "metadata": {},
   "source": [
    "# 01. Importing libraries"
   ]
  },
  {
   "cell_type": "code",
   "execution_count": 1,
   "id": "f78fadbb",
   "metadata": {
    "tags": []
   },
   "outputs": [],
   "source": [
    "# Import libraries\n",
    "import pandas as pd\n",
    "import numpy as np\n",
    "import os"
   ]
  },
  {
   "cell_type": "markdown",
   "id": "ebe9d58f-5c35-4f03-b797-e5aea946d744",
   "metadata": {},
   "source": [
    "# 02. Data Types"
   ]
  },
  {
   "cell_type": "code",
   "execution_count": 2,
   "id": "52020772-5aed-4fcd-830a-e6b8235d7969",
   "metadata": {
    "tags": []
   },
   "outputs": [],
   "source": [
    "x = 2"
   ]
  },
  {
   "cell_type": "code",
   "execution_count": 3,
   "id": "1a70baef-a07b-4796-9aae-903379cf8ead",
   "metadata": {
    "tags": []
   },
   "outputs": [
    {
     "data": {
      "text/plain": [
       "2"
      ]
     },
     "execution_count": 3,
     "metadata": {},
     "output_type": "execute_result"
    }
   ],
   "source": [
    "x"
   ]
  },
  {
   "cell_type": "code",
   "execution_count": 4,
   "id": "4ced3f4d-e693-4ff6-819a-4773ebe09f96",
   "metadata": {
    "tags": []
   },
   "outputs": [
    {
     "name": "stdout",
     "output_type": "stream",
     "text": [
      "2\n"
     ]
    }
   ],
   "source": [
    "print(x)"
   ]
  },
  {
   "cell_type": "code",
   "execution_count": 5,
   "id": "40ad2882-bd51-466d-8837-e2e3f04c49b1",
   "metadata": {
    "tags": []
   },
   "outputs": [
    {
     "data": {
      "text/plain": [
       "int"
      ]
     },
     "execution_count": 5,
     "metadata": {},
     "output_type": "execute_result"
    }
   ],
   "source": [
    "type(x)"
   ]
  },
  {
   "cell_type": "code",
   "execution_count": 6,
   "id": "c84b509b-a864-4c56-9950-8aa2df41231b",
   "metadata": {
    "tags": []
   },
   "outputs": [],
   "source": [
    "y = 5.678"
   ]
  },
  {
   "cell_type": "code",
   "execution_count": 7,
   "id": "0591f877-1ebb-4155-bba4-94c717276204",
   "metadata": {
    "tags": []
   },
   "outputs": [
    {
     "data": {
      "text/plain": [
       "float"
      ]
     },
     "execution_count": 7,
     "metadata": {},
     "output_type": "execute_result"
    }
   ],
   "source": [
    "type(y)"
   ]
  },
  {
   "cell_type": "code",
   "execution_count": 8,
   "id": "cefcdf1b-ff07-4787-8285-022975e0c2bb",
   "metadata": {
    "tags": []
   },
   "outputs": [],
   "source": [
    "z = \"Brazil\""
   ]
  },
  {
   "cell_type": "code",
   "execution_count": 9,
   "id": "39bad62a-e5e4-452f-bc42-b9ba9114d88f",
   "metadata": {
    "tags": []
   },
   "outputs": [
    {
     "data": {
      "text/plain": [
       "str"
      ]
     },
     "execution_count": 9,
     "metadata": {},
     "output_type": "execute_result"
    }
   ],
   "source": [
    "type(z)"
   ]
  },
  {
   "cell_type": "code",
   "execution_count": 10,
   "id": "af2eab0f-1848-4404-8994-3162ac016223",
   "metadata": {
    "tags": []
   },
   "outputs": [
    {
     "data": {
      "text/plain": [
       "bool"
      ]
     },
     "execution_count": 10,
     "metadata": {},
     "output_type": "execute_result"
    }
   ],
   "source": [
    "type(True)"
   ]
  },
  {
   "cell_type": "code",
   "execution_count": 11,
   "id": "19024714-7efc-4c33-9a61-9636bd7b51f6",
   "metadata": {
    "tags": []
   },
   "outputs": [
    {
     "data": {
      "text/plain": [
       "bool"
      ]
     },
     "execution_count": 11,
     "metadata": {},
     "output_type": "execute_result"
    }
   ],
   "source": [
    "type(False)"
   ]
  },
  {
   "cell_type": "code",
   "execution_count": 12,
   "id": "b506f1ec-b170-47f2-ad43-eb4f9df46379",
   "metadata": {
    "tags": []
   },
   "outputs": [
    {
     "name": "stdout",
     "output_type": "stream",
     "text": [
      "2\n"
     ]
    }
   ],
   "source": [
    "print(x)"
   ]
  },
  {
   "cell_type": "code",
   "execution_count": 13,
   "id": "7a25e18f-f18c-46e0-98f8-691df6548597",
   "metadata": {
    "tags": []
   },
   "outputs": [
    {
     "data": {
      "text/plain": [
       "6"
      ]
     },
     "execution_count": 13,
     "metadata": {},
     "output_type": "execute_result"
    }
   ],
   "source": [
    "x + 4"
   ]
  },
  {
   "cell_type": "code",
   "execution_count": 14,
   "id": "66aa5a77-fcb7-4f98-adb0-beedaaf844bd",
   "metadata": {
    "tags": []
   },
   "outputs": [
    {
     "data": {
      "text/plain": [
       "7.678"
      ]
     },
     "execution_count": 14,
     "metadata": {},
     "output_type": "execute_result"
    }
   ],
   "source": [
    "x + y"
   ]
  },
  {
   "cell_type": "code",
   "execution_count": 15,
   "id": "79ccdc3c-07db-4611-bf4d-f7828fcfe603",
   "metadata": {
    "tags": []
   },
   "outputs": [],
   "source": [
    "x = x + 4"
   ]
  },
  {
   "cell_type": "code",
   "execution_count": 16,
   "id": "6ec4815a-cb30-46b3-87ed-a2e39538ece2",
   "metadata": {
    "tags": []
   },
   "outputs": [
    {
     "name": "stdout",
     "output_type": "stream",
     "text": [
      "6\n"
     ]
    }
   ],
   "source": [
    "print(x)"
   ]
  },
  {
   "cell_type": "code",
   "execution_count": 17,
   "id": "53685f0e-c511-4d4c-9244-277a6f1c8285",
   "metadata": {
    "tags": []
   },
   "outputs": [],
   "source": [
    "a = \"Hello,\""
   ]
  },
  {
   "cell_type": "code",
   "execution_count": 18,
   "id": "8949b96d-0a2a-4b1f-a884-58a310441828",
   "metadata": {
    "tags": []
   },
   "outputs": [],
   "source": [
    "b = \"Marley\""
   ]
  },
  {
   "cell_type": "code",
   "execution_count": 19,
   "id": "3d0a5a8b-c2d4-4c7b-ad9c-aff6673702e9",
   "metadata": {
    "tags": []
   },
   "outputs": [
    {
     "data": {
      "text/plain": [
       "'Hello,Marley'"
      ]
     },
     "execution_count": 19,
     "metadata": {},
     "output_type": "execute_result"
    }
   ],
   "source": [
    "a + b"
   ]
  },
  {
   "cell_type": "code",
   "execution_count": 20,
   "id": "58e8bfc1-ae38-423f-86fa-dd289e5a8f30",
   "metadata": {
    "tags": []
   },
   "outputs": [],
   "source": [
    "n = \"potato\" "
   ]
  },
  {
   "cell_type": "code",
   "execution_count": 21,
   "id": "4ed50819-fb48-4afd-bbfa-0429f10316e7",
   "metadata": {
    "tags": []
   },
   "outputs": [
    {
     "data": {
      "text/plain": [
       "'potatopotatopotatopotatopotatopotatopotatopotatopotatopotatopotatopotato'"
      ]
     },
     "execution_count": 21,
     "metadata": {},
     "output_type": "execute_result"
    }
   ],
   "source": [
    "n * 12"
   ]
  },
  {
   "cell_type": "code",
   "execution_count": 22,
   "id": "19f749a6-c966-49a9-801c-140e552e4db0",
   "metadata": {
    "tags": []
   },
   "outputs": [
    {
     "data": {
      "text/plain": [
       "False"
      ]
     },
     "execution_count": 22,
     "metadata": {},
     "output_type": "execute_result"
    }
   ],
   "source": [
    "y == x"
   ]
  },
  {
   "cell_type": "code",
   "execution_count": 23,
   "id": "958eacc6-9bb6-4091-bf87-58fab798a6e7",
   "metadata": {
    "tags": []
   },
   "outputs": [
    {
     "data": {
      "text/plain": [
       "bool"
      ]
     },
     "execution_count": 23,
     "metadata": {},
     "output_type": "execute_result"
    }
   ],
   "source": [
    "type(x == y)"
   ]
  },
  {
   "cell_type": "markdown",
   "id": "cd48387e-363b-4251-9d57-0b378fea645d",
   "metadata": {},
   "source": [
    "# Task 4.2"
   ]
  },
  {
   "cell_type": "code",
   "execution_count": 24,
   "id": "36a5b2e9-705c-4c26-b16e-8320227cf75e",
   "metadata": {
    "tags": []
   },
   "outputs": [],
   "source": [
    "x = 50"
   ]
  },
  {
   "cell_type": "code",
   "execution_count": 25,
   "id": "f1a952f5-c85e-4c6c-85e3-0e40451563a6",
   "metadata": {
    "tags": []
   },
   "outputs": [],
   "source": [
    "y = 50"
   ]
  },
  {
   "cell_type": "code",
   "execution_count": 26,
   "id": "8cd7901a-d889-4469-b8b5-05311db2ab94",
   "metadata": {
    "tags": []
   },
   "outputs": [
    {
     "data": {
      "text/plain": [
       "100"
      ]
     },
     "execution_count": 26,
     "metadata": {},
     "output_type": "execute_result"
    }
   ],
   "source": [
    "x + y"
   ]
  },
  {
   "cell_type": "code",
   "execution_count": 27,
   "id": "2e5f89cf-e510-4deb-a0f4-8030e1751172",
   "metadata": {
    "tags": []
   },
   "outputs": [
    {
     "data": {
      "text/plain": [
       "75"
      ]
     },
     "execution_count": 27,
     "metadata": {},
     "output_type": "execute_result"
    }
   ],
   "source": [
    "x + 25"
   ]
  },
  {
   "cell_type": "code",
   "execution_count": 28,
   "id": "7edc4e80-aefd-4cb2-a761-02a54b2e48a3",
   "metadata": {
    "tags": []
   },
   "outputs": [
    {
     "data": {
      "text/plain": [
       "25"
      ]
     },
     "execution_count": 28,
     "metadata": {},
     "output_type": "execute_result"
    }
   ],
   "source": [
    "y - 25"
   ]
  },
  {
   "cell_type": "code",
   "execution_count": 29,
   "id": "0fc7785f-9d44-4628-8908-a8934adc19fe",
   "metadata": {
    "tags": []
   },
   "outputs": [
    {
     "data": {
      "text/plain": [
       "100"
      ]
     },
     "execution_count": 29,
     "metadata": {},
     "output_type": "execute_result"
    }
   ],
   "source": [
    "x + y"
   ]
  },
  {
   "cell_type": "code",
   "execution_count": 30,
   "id": "311be13f-a29e-40b9-b9b2-a47de080fef8",
   "metadata": {
    "tags": []
   },
   "outputs": [],
   "source": [
    "x = x + 23"
   ]
  },
  {
   "cell_type": "code",
   "execution_count": 31,
   "id": "2e0f1339-b111-4e31-818b-ca11fd6b8e29",
   "metadata": {
    "tags": []
   },
   "outputs": [],
   "source": [
    "y = y - 23"
   ]
  },
  {
   "cell_type": "code",
   "execution_count": 32,
   "id": "ff8653a2-9ae9-4099-87c4-2ff3792c7108",
   "metadata": {
    "tags": []
   },
   "outputs": [
    {
     "data": {
      "text/plain": [
       "100"
      ]
     },
     "execution_count": 32,
     "metadata": {},
     "output_type": "execute_result"
    }
   ],
   "source": [
    "x + y"
   ]
  },
  {
   "cell_type": "code",
   "execution_count": 33,
   "id": "9d4a4400-b58d-4ad5-b357-c8f7a030e6b8",
   "metadata": {
    "tags": []
   },
   "outputs": [],
   "source": [
    "x = 50.25"
   ]
  },
  {
   "cell_type": "code",
   "execution_count": 34,
   "id": "6b76c347-19a3-47c4-af43-6dc0dd821ce9",
   "metadata": {
    "tags": []
   },
   "outputs": [],
   "source": [
    "y = 2.25"
   ]
  },
  {
   "cell_type": "code",
   "execution_count": 35,
   "id": "4c5f37e8-146b-4ad8-9940-1aaa287ca2a3",
   "metadata": {
    "tags": []
   },
   "outputs": [
    {
     "data": {
      "text/plain": [
       "22.333333333333332"
      ]
     },
     "execution_count": 35,
     "metadata": {},
     "output_type": "execute_result"
    }
   ],
   "source": [
    "x / y"
   ]
  },
  {
   "cell_type": "code",
   "execution_count": 36,
   "id": "dc718c2c-f6b8-4a80-abcd-4360f1fa9c70",
   "metadata": {
    "tags": []
   },
   "outputs": [],
   "source": [
    "a = \"foot\""
   ]
  },
  {
   "cell_type": "code",
   "execution_count": 37,
   "id": "c399e2d0-9b88-415d-bf9e-e20ec5ab9f14",
   "metadata": {
    "tags": []
   },
   "outputs": [],
   "source": [
    "b = \"ball\""
   ]
  },
  {
   "cell_type": "code",
   "execution_count": 41,
   "id": "4b885d2b-94c1-4012-907e-561c2b34f7ed",
   "metadata": {
    "tags": []
   },
   "outputs": [
    {
     "data": {
      "text/plain": [
       "'football'"
      ]
     },
     "execution_count": 41,
     "metadata": {},
     "output_type": "execute_result"
    }
   ],
   "source": [
    "a + b"
   ]
  },
  {
   "cell_type": "code",
   "execution_count": 46,
   "id": "9dc3a8be-90e6-461b-b032-71a632360b7f",
   "metadata": {
    "tags": []
   },
   "outputs": [],
   "source": [
    "a = \"I love hiking. \""
   ]
  },
  {
   "cell_type": "code",
   "execution_count": 47,
   "id": "b847b7ba-d1dd-4f36-a66e-23caf7779ae0",
   "metadata": {
    "tags": []
   },
   "outputs": [],
   "source": [
    "b = \"I am often in the mountains.\""
   ]
  },
  {
   "cell_type": "code",
   "execution_count": 48,
   "id": "65923e5f-02e9-4a3d-8eb5-e88cd98b11d1",
   "metadata": {
    "tags": []
   },
   "outputs": [
    {
     "data": {
      "text/plain": [
       "'I love hiking. I am often in the mountains.'"
      ]
     },
     "execution_count": 48,
     "metadata": {},
     "output_type": "execute_result"
    }
   ],
   "source": [
    "a + b"
   ]
  },
  {
   "cell_type": "code",
   "execution_count": 1,
   "id": "6f70c547-30f0-496a-b4cf-10c04c690f42",
   "metadata": {},
   "outputs": [
    {
     "name": "stdout",
     "output_type": "stream",
     "text": [
      "Garbage collector: collected 0 objects.\n"
     ]
    }
   ],
   "source": [
    "# Importing gc module\n",
    "import gc\n",
    "\n",
    "# Returns the number of\n",
    "# objects it has collected\n",
    "# and deallocated\n",
    "collected = gc.collect()\n",
    "\n",
    "# Prints Garbage collector \n",
    "# as 0 object\n",
    "print(\"Garbage collector: collected\",\n",
    "\t\t\"%d objects.\" % collected)\n"
   ]
  },
  {
   "cell_type": "code",
   "execution_count": 2,
   "id": "c03c59c4",
   "metadata": {},
   "outputs": [
    {
     "data": {
      "text/plain": [
       "0"
      ]
     },
     "execution_count": 2,
     "metadata": {},
     "output_type": "execute_result"
    }
   ],
   "source": [
    "gc.collect()"
   ]
  },
  {
   "cell_type": "code",
   "execution_count": null,
   "id": "bf1f766c",
   "metadata": {},
   "outputs": [],
   "source": []
  }
 ],
 "metadata": {
  "kernelspec": {
   "display_name": "Python 3 (ipykernel)",
   "language": "python",
   "name": "python3"
  },
  "language_info": {
   "codemirror_mode": {
    "name": "ipython",
    "version": 3
   },
   "file_extension": ".py",
   "mimetype": "text/x-python",
   "name": "python",
   "nbconvert_exporter": "python",
   "pygments_lexer": "ipython3",
   "version": "3.11.5"
  }
 },
 "nbformat": 4,
 "nbformat_minor": 5
}

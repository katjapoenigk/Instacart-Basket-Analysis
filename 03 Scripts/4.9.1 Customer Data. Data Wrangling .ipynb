{
 "cells": [
  {
   "cell_type": "markdown",
   "id": "7a246c21",
   "metadata": {},
   "source": [
    "# Data wrangling customer data & combine with orders-product dataset \n",
    "\n",
    "## Part 1 task 4.9"
   ]
  },
  {
   "cell_type": "markdown",
   "id": "c8a4edff",
   "metadata": {},
   "source": [
    "## 1. Importing libraries and data sets"
   ]
  },
  {
   "cell_type": "code",
   "execution_count": 1,
   "id": "4aa7e639",
   "metadata": {},
   "outputs": [],
   "source": [
    "#Import Libraries\n",
    "import pandas as pd\n",
    "import numpy as np\n",
    "import os\n",
    "import matplotlib.pyplot as plt\n",
    "import seaborn as sns\n",
    "import scipy"
   ]
  },
  {
   "cell_type": "code",
   "execution_count": 2,
   "id": "5a8b4321",
   "metadata": {},
   "outputs": [],
   "source": [
    "#creating pathway for dataframes\n",
    "path = os.path.join(r'/Users/katja/Documents/Instacart Basket Analysis/02 Data')"
   ]
  },
  {
   "cell_type": "code",
   "execution_count": 3,
   "id": "67142bb4",
   "metadata": {},
   "outputs": [],
   "source": [
    "#import orders_products\n",
    "ords_prods =pd.read_pickle(os.path.join(path,'Prepared Data', 'orders_products_merged_updated.pkl'))"
   ]
  },
  {
   "cell_type": "code",
   "execution_count": 8,
   "id": "277dadd0",
   "metadata": {},
   "outputs": [],
   "source": [
    "#import the customer file and compress the numeric values where possible\n",
    "\n",
    "dtypes = {'Age': 'int8','n_dependants': 'int8', 'income':'int32'}\n",
    "\n",
    "df_customers = pd.read_csv(os.path.join(path,'Original Data','customers.csv'),dtype=dtypes)"
   ]
  },
  {
   "cell_type": "code",
   "execution_count": 9,
   "id": "4c670524",
   "metadata": {},
   "outputs": [
    {
     "name": "stdout",
     "output_type": "stream",
     "text": [
      "<class 'pandas.core.frame.DataFrame'>\n",
      "RangeIndex: 206209 entries, 0 to 206208\n",
      "Data columns (total 10 columns):\n",
      " #   Column        Non-Null Count   Dtype \n",
      "---  ------        --------------   ----- \n",
      " 0   user_id       206209 non-null  int64 \n",
      " 1   First Name    194950 non-null  object\n",
      " 2   Surnam        206209 non-null  object\n",
      " 3   Gender        206209 non-null  object\n",
      " 4   STATE         206209 non-null  object\n",
      " 5   Age           206209 non-null  int8  \n",
      " 6   date_joined   206209 non-null  object\n",
      " 7   n_dependants  206209 non-null  int8  \n",
      " 8   fam_status    206209 non-null  object\n",
      " 9   income        206209 non-null  int32 \n",
      "dtypes: int32(1), int64(1), int8(2), object(6)\n",
      "memory usage: 12.2+ MB\n"
     ]
    }
   ],
   "source": [
    "#checking types\n",
    "df_customers.info()"
   ]
  },
  {
   "cell_type": "markdown",
   "id": "7adc37aa",
   "metadata": {},
   "source": [
    "## Data Wrangling"
   ]
  },
  {
   "cell_type": "code",
   "execution_count": 11,
   "id": "85998946",
   "metadata": {},
   "outputs": [
    {
     "data": {
      "text/html": [
       "<div>\n",
       "<style scoped>\n",
       "    .dataframe tbody tr th:only-of-type {\n",
       "        vertical-align: middle;\n",
       "    }\n",
       "\n",
       "    .dataframe tbody tr th {\n",
       "        vertical-align: top;\n",
       "    }\n",
       "\n",
       "    .dataframe thead th {\n",
       "        text-align: right;\n",
       "    }\n",
       "</style>\n",
       "<table border=\"1\" class=\"dataframe\">\n",
       "  <thead>\n",
       "    <tr style=\"text-align: right;\">\n",
       "      <th></th>\n",
       "      <th>user_id</th>\n",
       "      <th>First Name</th>\n",
       "      <th>Surnam</th>\n",
       "      <th>Gender</th>\n",
       "      <th>STATE</th>\n",
       "      <th>Age</th>\n",
       "      <th>date_joined</th>\n",
       "      <th>n_dependants</th>\n",
       "      <th>fam_status</th>\n",
       "      <th>income</th>\n",
       "    </tr>\n",
       "  </thead>\n",
       "  <tbody>\n",
       "    <tr>\n",
       "      <th>0</th>\n",
       "      <td>26711</td>\n",
       "      <td>Deborah</td>\n",
       "      <td>Esquivel</td>\n",
       "      <td>Female</td>\n",
       "      <td>Missouri</td>\n",
       "      <td>48</td>\n",
       "      <td>1/1/2017</td>\n",
       "      <td>3</td>\n",
       "      <td>married</td>\n",
       "      <td>165665</td>\n",
       "    </tr>\n",
       "    <tr>\n",
       "      <th>1</th>\n",
       "      <td>33890</td>\n",
       "      <td>Patricia</td>\n",
       "      <td>Hart</td>\n",
       "      <td>Female</td>\n",
       "      <td>New Mexico</td>\n",
       "      <td>36</td>\n",
       "      <td>1/1/2017</td>\n",
       "      <td>0</td>\n",
       "      <td>single</td>\n",
       "      <td>59285</td>\n",
       "    </tr>\n",
       "    <tr>\n",
       "      <th>2</th>\n",
       "      <td>65803</td>\n",
       "      <td>Kenneth</td>\n",
       "      <td>Farley</td>\n",
       "      <td>Male</td>\n",
       "      <td>Idaho</td>\n",
       "      <td>35</td>\n",
       "      <td>1/1/2017</td>\n",
       "      <td>2</td>\n",
       "      <td>married</td>\n",
       "      <td>99568</td>\n",
       "    </tr>\n",
       "    <tr>\n",
       "      <th>3</th>\n",
       "      <td>125935</td>\n",
       "      <td>Michelle</td>\n",
       "      <td>Hicks</td>\n",
       "      <td>Female</td>\n",
       "      <td>Iowa</td>\n",
       "      <td>40</td>\n",
       "      <td>1/1/2017</td>\n",
       "      <td>0</td>\n",
       "      <td>single</td>\n",
       "      <td>42049</td>\n",
       "    </tr>\n",
       "    <tr>\n",
       "      <th>4</th>\n",
       "      <td>130797</td>\n",
       "      <td>Ann</td>\n",
       "      <td>Gilmore</td>\n",
       "      <td>Female</td>\n",
       "      <td>Maryland</td>\n",
       "      <td>26</td>\n",
       "      <td>1/1/2017</td>\n",
       "      <td>1</td>\n",
       "      <td>married</td>\n",
       "      <td>40374</td>\n",
       "    </tr>\n",
       "  </tbody>\n",
       "</table>\n",
       "</div>"
      ],
      "text/plain": [
       "   user_id First Name    Surnam  Gender       STATE  Age date_joined  \\\n",
       "0    26711    Deborah  Esquivel  Female    Missouri   48    1/1/2017   \n",
       "1    33890   Patricia      Hart  Female  New Mexico   36    1/1/2017   \n",
       "2    65803    Kenneth    Farley    Male       Idaho   35    1/1/2017   \n",
       "3   125935   Michelle     Hicks  Female        Iowa   40    1/1/2017   \n",
       "4   130797        Ann   Gilmore  Female    Maryland   26    1/1/2017   \n",
       "\n",
       "   n_dependants fam_status  income  \n",
       "0             3    married  165665  \n",
       "1             0     single   59285  \n",
       "2             2    married   99568  \n",
       "3             0     single   42049  \n",
       "4             1    married   40374  "
      ]
     },
     "execution_count": 11,
     "metadata": {},
     "output_type": "execute_result"
    }
   ],
   "source": [
    "#Checking Columns\n",
    "df_customers.head()"
   ]
  },
  {
   "cell_type": "code",
   "execution_count": 12,
   "id": "49384b2a",
   "metadata": {},
   "outputs": [
    {
     "data": {
      "text/plain": [
       "(206209, 10)"
      ]
     },
     "execution_count": 12,
     "metadata": {},
     "output_type": "execute_result"
    }
   ],
   "source": [
    "#checking rows, columns\n",
    "df_customers.shape"
   ]
  },
  {
   "cell_type": "code",
   "execution_count": 13,
   "id": "d7e6510c",
   "metadata": {},
   "outputs": [
    {
     "data": {
      "text/html": [
       "<div>\n",
       "<style scoped>\n",
       "    .dataframe tbody tr th:only-of-type {\n",
       "        vertical-align: middle;\n",
       "    }\n",
       "\n",
       "    .dataframe tbody tr th {\n",
       "        vertical-align: top;\n",
       "    }\n",
       "\n",
       "    .dataframe thead th {\n",
       "        text-align: right;\n",
       "    }\n",
       "</style>\n",
       "<table border=\"1\" class=\"dataframe\">\n",
       "  <thead>\n",
       "    <tr style=\"text-align: right;\">\n",
       "      <th></th>\n",
       "      <th>user_id</th>\n",
       "      <th>Age</th>\n",
       "      <th>n_dependants</th>\n",
       "      <th>income</th>\n",
       "    </tr>\n",
       "  </thead>\n",
       "  <tbody>\n",
       "    <tr>\n",
       "      <th>count</th>\n",
       "      <td>206209.000000</td>\n",
       "      <td>206209.000000</td>\n",
       "      <td>206209.000000</td>\n",
       "      <td>206209.000000</td>\n",
       "    </tr>\n",
       "    <tr>\n",
       "      <th>mean</th>\n",
       "      <td>103105.000000</td>\n",
       "      <td>49.501646</td>\n",
       "      <td>1.499823</td>\n",
       "      <td>94632.852548</td>\n",
       "    </tr>\n",
       "    <tr>\n",
       "      <th>std</th>\n",
       "      <td>59527.555167</td>\n",
       "      <td>18.480962</td>\n",
       "      <td>1.118433</td>\n",
       "      <td>42473.786988</td>\n",
       "    </tr>\n",
       "    <tr>\n",
       "      <th>min</th>\n",
       "      <td>1.000000</td>\n",
       "      <td>18.000000</td>\n",
       "      <td>0.000000</td>\n",
       "      <td>25903.000000</td>\n",
       "    </tr>\n",
       "    <tr>\n",
       "      <th>25%</th>\n",
       "      <td>51553.000000</td>\n",
       "      <td>33.000000</td>\n",
       "      <td>0.000000</td>\n",
       "      <td>59874.000000</td>\n",
       "    </tr>\n",
       "    <tr>\n",
       "      <th>50%</th>\n",
       "      <td>103105.000000</td>\n",
       "      <td>49.000000</td>\n",
       "      <td>1.000000</td>\n",
       "      <td>93547.000000</td>\n",
       "    </tr>\n",
       "    <tr>\n",
       "      <th>75%</th>\n",
       "      <td>154657.000000</td>\n",
       "      <td>66.000000</td>\n",
       "      <td>3.000000</td>\n",
       "      <td>124244.000000</td>\n",
       "    </tr>\n",
       "    <tr>\n",
       "      <th>max</th>\n",
       "      <td>206209.000000</td>\n",
       "      <td>81.000000</td>\n",
       "      <td>3.000000</td>\n",
       "      <td>593901.000000</td>\n",
       "    </tr>\n",
       "  </tbody>\n",
       "</table>\n",
       "</div>"
      ],
      "text/plain": [
       "             user_id            Age   n_dependants         income\n",
       "count  206209.000000  206209.000000  206209.000000  206209.000000\n",
       "mean   103105.000000      49.501646       1.499823   94632.852548\n",
       "std     59527.555167      18.480962       1.118433   42473.786988\n",
       "min         1.000000      18.000000       0.000000   25903.000000\n",
       "25%     51553.000000      33.000000       0.000000   59874.000000\n",
       "50%    103105.000000      49.000000       1.000000   93547.000000\n",
       "75%    154657.000000      66.000000       3.000000  124244.000000\n",
       "max    206209.000000      81.000000       3.000000  593901.000000"
      ]
     },
     "execution_count": 13,
     "metadata": {},
     "output_type": "execute_result"
    }
   ],
   "source": [
    "#data description\n",
    "df_customers.describe()"
   ]
  },
  {
   "cell_type": "code",
   "execution_count": 14,
   "id": "1476fb07",
   "metadata": {},
   "outputs": [
    {
     "data": {
      "text/plain": [
       "fam_status\n",
       "married                             144906\n",
       "single                               33962\n",
       "divorced/widowed                     17640\n",
       "living with parents and siblings      9701\n",
       "Name: count, dtype: int64"
      ]
     },
     "execution_count": 14,
     "metadata": {},
     "output_type": "execute_result"
    }
   ],
   "source": [
    "#fam_status value_counts\n",
    "df_customers['fam_status'].value_counts(dropna=False)"
   ]
  },
  {
   "cell_type": "code",
   "execution_count": 15,
   "id": "2bd34e3d",
   "metadata": {},
   "outputs": [
    {
     "data": {
      "text/plain": [
       "date_joined\n",
       "9/17/2018     213\n",
       "2/10/2018     212\n",
       "4/1/2019      211\n",
       "9/21/2019     211\n",
       "12/19/2017    210\n",
       "             ... \n",
       "9/1/2018      141\n",
       "1/22/2018     140\n",
       "11/24/2017    139\n",
       "7/18/2019     138\n",
       "8/6/2018      128\n",
       "Name: count, Length: 1187, dtype: int64"
      ]
     },
     "execution_count": 15,
     "metadata": {},
     "output_type": "execute_result"
    }
   ],
   "source": [
    "#date_joined value_counts\n",
    "df_customers['date_joined'].value_counts(dropna=False)"
   ]
  },
  {
   "cell_type": "markdown",
   "id": "ecde71a4",
   "metadata": {},
   "source": [
    "# Updating column type, drop and rename"
   ]
  },
  {
   "cell_type": "markdown",
   "id": "f4054073",
   "metadata": {},
   "source": [
    "### Changing column type"
   ]
  },
  {
   "cell_type": "code",
   "execution_count": 16,
   "id": "970c7457",
   "metadata": {},
   "outputs": [],
   "source": [
    "# update user_id from int to str\n",
    "df_customers['user_id'] = df_customers['user_id'].astype('str')\n",
    "df_customers['date_joined'] = pd.to_datetime(df_customers['date_joined'])"
   ]
  },
  {
   "cell_type": "code",
   "execution_count": 17,
   "id": "de194d30",
   "metadata": {},
   "outputs": [],
   "source": [
    "# changing user_id from int64 to string on ords_prods\n",
    "ords_prods['user_id'] = ords_prods['user_id'].astype('str')"
   ]
  },
  {
   "cell_type": "code",
   "execution_count": 18,
   "id": "25af794b",
   "metadata": {},
   "outputs": [],
   "source": [
    "# changing order_id from int64 to string \n",
    "ords_prods['order_id'] = ords_prods['order_id'].astype('str')"
   ]
  },
  {
   "cell_type": "code",
   "execution_count": 19,
   "id": "ebba7e07",
   "metadata": {},
   "outputs": [
    {
     "name": "stdout",
     "output_type": "stream",
     "text": [
      "<class 'pandas.core.frame.DataFrame'>\n",
      "RangeIndex: 206209 entries, 0 to 206208\n",
      "Data columns (total 10 columns):\n",
      " #   Column        Non-Null Count   Dtype         \n",
      "---  ------        --------------   -----         \n",
      " 0   user_id       206209 non-null  object        \n",
      " 1   First Name    194950 non-null  object        \n",
      " 2   Surnam        206209 non-null  object        \n",
      " 3   Gender        206209 non-null  object        \n",
      " 4   STATE         206209 non-null  object        \n",
      " 5   Age           206209 non-null  int8          \n",
      " 6   date_joined   206209 non-null  datetime64[ns]\n",
      " 7   n_dependants  206209 non-null  int8          \n",
      " 8   fam_status    206209 non-null  object        \n",
      " 9   income        206209 non-null  int32         \n",
      "dtypes: datetime64[ns](1), int32(1), int8(2), object(6)\n",
      "memory usage: 12.2+ MB\n"
     ]
    }
   ],
   "source": [
    "df_customers.info()"
   ]
  },
  {
   "cell_type": "code",
   "execution_count": 20,
   "id": "ede0976b",
   "metadata": {},
   "outputs": [
    {
     "name": "stdout",
     "output_type": "stream",
     "text": [
      "First Name\n"
     ]
    }
   ],
   "source": [
    "#code to check for columns that have mixed data type\n",
    "for col in df_customers.columns.tolist():\n",
    "    weird = (df_customers[[col]].map(type) != df_customers[[col]].iloc[0].apply(type)).any(axis = 1)\n",
    "    \n",
    "    if len (df_customers[weird]) > 0:\n",
    "        print (col)"
   ]
  },
  {
   "cell_type": "code",
   "execution_count": 21,
   "id": "ce6ed3b6",
   "metadata": {},
   "outputs": [],
   "source": [
    "# changing first_name to string as its a mixed type\n",
    "df_customers['First Name'] = df_customers['First Name'].astype('str')"
   ]
  },
  {
   "cell_type": "markdown",
   "id": "a3cdd589",
   "metadata": {},
   "source": [
    "#### Observations:\n",
    "\n",
    "##### changed user_id (customers df) to string \n",
    "##### changed user_id (ords prods df) to string\n",
    "##### changed order_id (ords prods df) to string\n",
    "##### First name has mixed types. changed to string"
   ]
  },
  {
   "cell_type": "markdown",
   "id": "0e0b6a80",
   "metadata": {},
   "source": [
    "### Update Column names"
   ]
  },
  {
   "cell_type": "code",
   "execution_count": 22,
   "id": "d604dec0",
   "metadata": {},
   "outputs": [
    {
     "name": "stdout",
     "output_type": "stream",
     "text": [
      "<class 'pandas.core.frame.DataFrame'>\n",
      "RangeIndex: 206209 entries, 0 to 206208\n",
      "Data columns (total 10 columns):\n",
      " #   Column           Non-Null Count   Dtype         \n",
      "---  ------           --------------   -----         \n",
      " 0   user_id          206209 non-null  object        \n",
      " 1   first_name       206209 non-null  object        \n",
      " 2   last_name        206209 non-null  object        \n",
      " 3   gender           206209 non-null  object        \n",
      " 4   state            206209 non-null  object        \n",
      " 5   age              206209 non-null  int8          \n",
      " 6   date_joined      206209 non-null  datetime64[ns]\n",
      " 7   n_dependants     206209 non-null  int8          \n",
      " 8   martital_status  206209 non-null  object        \n",
      " 9   income           206209 non-null  int32         \n",
      "dtypes: datetime64[ns](1), int32(1), int8(2), object(6)\n",
      "memory usage: 12.2+ MB\n"
     ]
    }
   ],
   "source": [
    "#rename First Name, surnam, Gender, STATE and Age\n",
    "df_customers.rename(columns={\"First Name\":\"first_name\", \"Surnam\":\"last_name\", \"Gender\":\"gender\",'STATE':'state', 'fam_status':'martital_status',\n",
    "                            \"Age\":\"age\"}, inplace=True)\n",
    "\n",
    "df_customers.info()"
   ]
  },
  {
   "cell_type": "markdown",
   "id": "3c007486",
   "metadata": {},
   "source": [
    "## Consistency Check"
   ]
  },
  {
   "cell_type": "markdown",
   "id": "2f34e9b9",
   "metadata": {},
   "source": [
    "### Missing Values"
   ]
  },
  {
   "cell_type": "code",
   "execution_count": 25,
   "id": "ee7a0402",
   "metadata": {},
   "outputs": [
    {
     "data": {
      "text/plain": [
       "user_id            0\n",
       "first_name         0\n",
       "last_name          0\n",
       "gender             0\n",
       "state              0\n",
       "age                0\n",
       "date_joined        0\n",
       "n_dependants       0\n",
       "martital_status    0\n",
       "income             0\n",
       "dtype: int64"
      ]
     },
     "execution_count": 25,
     "metadata": {},
     "output_type": "execute_result"
    }
   ],
   "source": [
    "#missing value count\n",
    "df_customers.isnull().sum()"
   ]
  },
  {
   "cell_type": "markdown",
   "id": "55b6c186",
   "metadata": {},
   "source": [
    "#### Observations:\n",
    "\n",
    "##### no missing values"
   ]
  },
  {
   "cell_type": "markdown",
   "id": "98a0cd58",
   "metadata": {},
   "source": [
    "### Duplicates"
   ]
  },
  {
   "cell_type": "code",
   "execution_count": 66,
   "id": "12886797",
   "metadata": {},
   "outputs": [
    {
     "data": {
      "text/plain": [
       "(0, 7)"
      ]
     },
     "execution_count": 66,
     "metadata": {},
     "output_type": "execute_result"
    }
   ],
   "source": [
    "#creating subset for duplicates and checking for duplicates\n",
    "df_dups = df_customers[df_customers.duplicated()]\n",
    "df_dups.shape"
   ]
  },
  {
   "cell_type": "markdown",
   "id": "52ef1844",
   "metadata": {},
   "source": [
    "#### Observations:\n",
    "\n",
    "##### no duplicates"
   ]
  },
  {
   "cell_type": "markdown",
   "id": "215c3f69",
   "metadata": {},
   "source": [
    "### Dropping columns"
   ]
  },
  {
   "cell_type": "code",
   "execution_count": 30,
   "id": "3e801ebc",
   "metadata": {},
   "outputs": [],
   "source": [
    "# dropping colmn surname/ last_name for privacy reason \n",
    "df_customers = df_customers.drop(columns =['last_name'])"
   ]
  },
  {
   "cell_type": "code",
   "execution_count": 31,
   "id": "0da8dec9",
   "metadata": {},
   "outputs": [],
   "source": [
    "# dropping colmn first_name for privacy reason \n",
    "df_customers = df_customers.drop(columns =['first_name'])"
   ]
  },
  {
   "cell_type": "markdown",
   "id": "5a5aff56",
   "metadata": {},
   "source": [
    "### Consistency check for single columns"
   ]
  },
  {
   "cell_type": "markdown",
   "id": "54fa1b26",
   "metadata": {},
   "source": [
    "#### Gender"
   ]
  },
  {
   "cell_type": "code",
   "execution_count": 32,
   "id": "b1ac840f",
   "metadata": {},
   "outputs": [
    {
     "data": {
      "text/plain": [
       "gender\n",
       "Male      104067\n",
       "Female    102142\n",
       "Name: count, dtype: int64"
      ]
     },
     "execution_count": 32,
     "metadata": {},
     "output_type": "execute_result"
    }
   ],
   "source": [
    "#check value types and counts of gender\n",
    "df_customers['gender'].value_counts(dropna=False)"
   ]
  },
  {
   "cell_type": "markdown",
   "id": "34c8092c",
   "metadata": {},
   "source": [
    "#### Observations:\n",
    "\n",
    "##### no changes required"
   ]
  },
  {
   "cell_type": "markdown",
   "id": "b3956c6b",
   "metadata": {},
   "source": [
    "#### State"
   ]
  },
  {
   "cell_type": "code",
   "execution_count": 34,
   "id": "fd62a863",
   "metadata": {},
   "outputs": [
    {
     "data": {
      "text/plain": [
       "51"
      ]
     },
     "execution_count": 34,
     "metadata": {},
     "output_type": "execute_result"
    }
   ],
   "source": [
    "df_customers['state'].nunique()"
   ]
  },
  {
   "cell_type": "code",
   "execution_count": 35,
   "id": "48366782",
   "metadata": {},
   "outputs": [
    {
     "data": {
      "text/plain": [
       "state\n",
       "Florida                 4044\n",
       "Colorado                4044\n",
       "Illinois                4044\n",
       "Alabama                 4044\n",
       "District of Columbia    4044\n",
       "Hawaii                  4044\n",
       "Arizona                 4044\n",
       "Connecticut             4044\n",
       "California              4044\n",
       "Indiana                 4044\n",
       "Arkansas                4044\n",
       "Alaska                  4044\n",
       "Delaware                4044\n",
       "Iowa                    4044\n",
       "Idaho                   4044\n",
       "Georgia                 4044\n",
       "Wyoming                 4043\n",
       "Mississippi             4043\n",
       "Oklahoma                4043\n",
       "Utah                    4043\n",
       "New Hampshire           4043\n",
       "Kentucky                4043\n",
       "Maryland                4043\n",
       "Rhode Island            4043\n",
       "Massachusetts           4043\n",
       "Michigan                4043\n",
       "New Jersey              4043\n",
       "Kansas                  4043\n",
       "South Dakota            4043\n",
       "Minnesota               4043\n",
       "Tennessee               4043\n",
       "New York                4043\n",
       "Washington              4043\n",
       "Louisiana               4043\n",
       "Montana                 4043\n",
       "North Dakota            4043\n",
       "Wisconsin               4043\n",
       "Nebraska                4043\n",
       "Vermont                 4043\n",
       "Nevada                  4043\n",
       "Maine                   4043\n",
       "North Carolina          4043\n",
       "West Virginia           4043\n",
       "Virginia                4043\n",
       "Oregon                  4043\n",
       "New Mexico              4043\n",
       "Texas                   4043\n",
       "Pennsylvania            4043\n",
       "Ohio                    4043\n",
       "South Carolina          4043\n",
       "Missouri                4043\n",
       "Name: count, dtype: int64"
      ]
     },
     "execution_count": 35,
     "metadata": {},
     "output_type": "execute_result"
    }
   ],
   "source": [
    "# list states to check for duplicates and error names.\n",
    "df_customers['state'].value_counts(dropna=False)"
   ]
  },
  {
   "cell_type": "markdown",
   "id": "ffcdceec",
   "metadata": {},
   "source": [
    "#### Observations:\n",
    "\n",
    "##### 51 states \n",
    "##### customers almost equally apread out over the states"
   ]
  },
  {
   "cell_type": "markdown",
   "id": "169c5eff",
   "metadata": {},
   "source": [
    "#### Age"
   ]
  },
  {
   "cell_type": "code",
   "execution_count": 37,
   "id": "c5de55a6",
   "metadata": {},
   "outputs": [
    {
     "data": {
      "text/plain": [
       "count    206209.000000\n",
       "mean         49.501646\n",
       "std          18.480962\n",
       "min          18.000000\n",
       "25%          33.000000\n",
       "50%          49.000000\n",
       "75%          66.000000\n",
       "max          81.000000\n",
       "Name: age, dtype: float64"
      ]
     },
     "execution_count": 37,
     "metadata": {},
     "output_type": "execute_result"
    }
   ],
   "source": [
    "df_customers['age'].describe()"
   ]
  },
  {
   "cell_type": "code",
   "execution_count": 38,
   "id": "b5bde32a",
   "metadata": {},
   "outputs": [
    {
     "data": {
      "text/plain": [
       "age\n",
       "19    3329\n",
       "55    3317\n",
       "51    3317\n",
       "56    3306\n",
       "32    3305\n",
       "      ... \n",
       "65    3145\n",
       "25    3127\n",
       "66    3114\n",
       "50    3102\n",
       "36    3101\n",
       "Name: count, Length: 64, dtype: int64"
      ]
     },
     "execution_count": 38,
     "metadata": {},
     "output_type": "execute_result"
    }
   ],
   "source": [
    "#checking for any null values or odd ages\n",
    "df_customers['age'].value_counts()"
   ]
  },
  {
   "cell_type": "markdown",
   "id": "0019e176",
   "metadata": {},
   "source": [
    "#### Observations:\n",
    "\n",
    "##### No missing values \n",
    "##### No null values or odd ages"
   ]
  },
  {
   "cell_type": "markdown",
   "id": "b9fc4349",
   "metadata": {},
   "source": [
    "#### Date joined"
   ]
  },
  {
   "cell_type": "code",
   "execution_count": 41,
   "id": "3a561c2d",
   "metadata": {},
   "outputs": [
    {
     "data": {
      "text/plain": [
       "Timestamp('2017-01-01 00:00:00')"
      ]
     },
     "execution_count": 41,
     "metadata": {},
     "output_type": "execute_result"
    }
   ],
   "source": [
    "#min value\n",
    "df_customers['date_joined'].min()"
   ]
  },
  {
   "cell_type": "code",
   "execution_count": 42,
   "id": "fe173277",
   "metadata": {},
   "outputs": [
    {
     "data": {
      "text/plain": [
       "Timestamp('2020-04-01 00:00:00')"
      ]
     },
     "execution_count": 42,
     "metadata": {},
     "output_type": "execute_result"
    }
   ],
   "source": [
    "#max value\n",
    "df_customers['date_joined'].max()"
   ]
  },
  {
   "cell_type": "markdown",
   "id": "8797e015",
   "metadata": {},
   "source": [
    "#### Observations:\n",
    "\n",
    "##### Date joined are from 2017-01-01 till 2020-04-01"
   ]
  },
  {
   "cell_type": "markdown",
   "id": "69c3594c",
   "metadata": {},
   "source": [
    "#### n-dependants"
   ]
  },
  {
   "cell_type": "code",
   "execution_count": 43,
   "id": "f6ff0db1",
   "metadata": {},
   "outputs": [
    {
     "data": {
      "text/plain": [
       "n_dependants\n",
       "0    51602\n",
       "3    51594\n",
       "1    51531\n",
       "2    51482\n",
       "Name: count, dtype: int64"
      ]
     },
     "execution_count": 43,
     "metadata": {},
     "output_type": "execute_result"
    }
   ],
   "source": [
    "# value counts of n_dependants\n",
    "df_customers['n_dependants'].value_counts(dropna=False)"
   ]
  },
  {
   "cell_type": "markdown",
   "id": "13050491",
   "metadata": {},
   "source": [
    "#### Observations:\n",
    "\n",
    "##### No missing or inconsistent in n_dependants"
   ]
  },
  {
   "cell_type": "markdown",
   "id": "7599082a",
   "metadata": {},
   "source": [
    "#### marital_status"
   ]
  },
  {
   "cell_type": "code",
   "execution_count": 45,
   "id": "81922c94",
   "metadata": {},
   "outputs": [
    {
     "name": "stdout",
     "output_type": "stream",
     "text": [
      "<class 'pandas.core.frame.DataFrame'>\n",
      "RangeIndex: 206209 entries, 0 to 206208\n",
      "Data columns (total 8 columns):\n",
      " #   Column          Non-Null Count   Dtype         \n",
      "---  ------          --------------   -----         \n",
      " 0   user_id         206209 non-null  object        \n",
      " 1   gender          206209 non-null  object        \n",
      " 2   state           206209 non-null  object        \n",
      " 3   age             206209 non-null  int8          \n",
      " 4   date_joined     206209 non-null  datetime64[ns]\n",
      " 5   n_dependants    206209 non-null  int8          \n",
      " 6   marital_status  206209 non-null  object        \n",
      " 7   income          206209 non-null  int32         \n",
      "dtypes: datetime64[ns](1), int32(1), int8(2), object(4)\n",
      "memory usage: 9.0+ MB\n"
     ]
    }
   ],
   "source": [
    "#rename martital_status to marital_status\n",
    "df_customers.rename(columns={\"martital_status\":\"marital_status\"}, inplace=True)\n",
    "\n",
    "df_customers.info()"
   ]
  },
  {
   "cell_type": "code",
   "execution_count": 46,
   "id": "e1c2ec5b",
   "metadata": {},
   "outputs": [
    {
     "data": {
      "text/plain": [
       "marital_status\n",
       "married                             144906\n",
       "single                               33962\n",
       "divorced/widowed                     17640\n",
       "living with parents and siblings      9701\n",
       "Name: count, dtype: int64"
      ]
     },
     "execution_count": 46,
     "metadata": {},
     "output_type": "execute_result"
    }
   ],
   "source": [
    "df_customers['marital_status'].value_counts(dropna=False)"
   ]
  },
  {
   "cell_type": "markdown",
   "id": "e9b81ab5",
   "metadata": {},
   "source": [
    "#### Observations:\n",
    "\n",
    "##### The majority clients/customer are married. "
   ]
  },
  {
   "cell_type": "markdown",
   "id": "1b60f523",
   "metadata": {},
   "source": [
    "#### income"
   ]
  },
  {
   "cell_type": "code",
   "execution_count": 47,
   "id": "f018b2ab",
   "metadata": {},
   "outputs": [
    {
     "data": {
      "text/plain": [
       "count    206209.000000\n",
       "mean      94632.852548\n",
       "std       42473.786988\n",
       "min       25903.000000\n",
       "25%       59874.000000\n",
       "50%       93547.000000\n",
       "75%      124244.000000\n",
       "max      593901.000000\n",
       "Name: income, dtype: float64"
      ]
     },
     "execution_count": 47,
     "metadata": {},
     "output_type": "execute_result"
    }
   ],
   "source": [
    "df_customers['income'].describe()"
   ]
  },
  {
   "cell_type": "code",
   "execution_count": 48,
   "id": "e258d79e",
   "metadata": {},
   "outputs": [
    {
     "data": {
      "text/plain": [
       "93547.0"
      ]
     },
     "execution_count": 48,
     "metadata": {},
     "output_type": "execute_result"
    }
   ],
   "source": [
    "df_customers['income'].median()"
   ]
  },
  {
   "cell_type": "markdown",
   "id": "2a6948e9",
   "metadata": {},
   "source": [
    "#### Observations:\n",
    "\n",
    "#####  Income's distribution is right skewed where by mean and median are between 93,547 - 94,632"
   ]
  },
  {
   "cell_type": "markdown",
   "id": "00225ad6",
   "metadata": {},
   "source": [
    "## Merging customers.csv with orders_products_merged_updated"
   ]
  },
  {
   "cell_type": "code",
   "execution_count": 49,
   "id": "38a7c04a",
   "metadata": {},
   "outputs": [
    {
     "name": "stdout",
     "output_type": "stream",
     "text": [
      "<class 'pandas.core.frame.DataFrame'>\n",
      "RangeIndex: 32404859 entries, 0 to 32404858\n",
      "Data columns (total 22 columns):\n",
      " #   Column                  Dtype  \n",
      "---  ------                  -----  \n",
      " 0   order_id                object \n",
      " 1   user_id                 object \n",
      " 2   clients_order_number    int64  \n",
      " 3   orders_day_of_week      int64  \n",
      " 4   order_hour_of_day       int64  \n",
      " 5   days_since_prior_order  float64\n",
      " 6   product_id              int64  \n",
      " 7   add_to_cart_order       int64  \n",
      " 8   reordered               int64  \n",
      " 9   product_name            object \n",
      " 10  aisle_id                int64  \n",
      " 11  department_id           int64  \n",
      " 12  prices                  float64\n",
      " 13  price_range_loc         object \n",
      " 14  busiest_days            object \n",
      " 15  busiest_period_of_day   object \n",
      " 16  max_order               int64  \n",
      " 17  loyalty_flag            object \n",
      " 18  mean_spend              float64\n",
      " 19  spending_flag           object \n",
      " 20  median_order_frequency  float64\n",
      " 21  order_frequency_flag    object \n",
      "dtypes: float64(4), int64(9), object(9)\n",
      "memory usage: 5.3+ GB\n"
     ]
    }
   ],
   "source": [
    "# checking for _merge column\n",
    "ords_prods.info()"
   ]
  },
  {
   "cell_type": "code",
   "execution_count": 52,
   "id": "1e8b8418",
   "metadata": {},
   "outputs": [
    {
     "name": "stderr",
     "output_type": "stream",
     "text": [
      "/Users/katja/anaconda3/lib/python3.11/site-packages/pandas/core/dtypes/astype.py:134: RuntimeWarning: overflow encountered in cast\n",
      "  return arr.astype(dtype, copy=True)\n"
     ]
    }
   ],
   "source": [
    "#Change types for ords_prods data set to save GB\n",
    "\n",
    "ords_prods['clients_order_number']=ords_prods['clients_order_number'].astype('int8')\n",
    "ords_prods['orders_day_of_week']=ords_prods['orders_day_of_week'].astype('int8')\n",
    "ords_prods['order_hour_of_day']=ords_prods['order_hour_of_day'].astype('int8')\n",
    "ords_prods['days_since_prior_order']=ords_prods['days_since_prior_order'].astype('float16')\n",
    "ords_prods['product_id']=ords_prods['product_id'].astype('int32')\n",
    "ords_prods['add_to_cart_order'] = ords_prods['add_to_cart_order'].astype('int32')\n",
    "ords_prods['reordered']=ords_prods['reordered'].astype('int8')\n",
    "ords_prods['aisle_id']=ords_prods['aisle_id'].astype('int8')\n",
    "ords_prods['department_id']=ords_prods['department_id'].astype('int8')\n",
    "ords_prods['prices']=ords_prods['prices'].astype('float16')\n",
    "ords_prods['max_order']=ords_prods['max_order'].astype('int8')\n",
    "ords_prods['mean_spend'] = ords_prods['mean_spend'].astype('float32')\n",
    "ords_prods['median_order_frequency']=ords_prods['median_order_frequency'].astype('float32')"
   ]
  },
  {
   "cell_type": "code",
   "execution_count": 53,
   "id": "1b077dc4",
   "metadata": {},
   "outputs": [
    {
     "name": "stdout",
     "output_type": "stream",
     "text": [
      "<class 'pandas.core.frame.DataFrame'>\n",
      "RangeIndex: 32404859 entries, 0 to 32404858\n",
      "Data columns (total 22 columns):\n",
      " #   Column                  Dtype  \n",
      "---  ------                  -----  \n",
      " 0   order_id                object \n",
      " 1   user_id                 object \n",
      " 2   clients_order_number    int8   \n",
      " 3   orders_day_of_week      int8   \n",
      " 4   order_hour_of_day       int8   \n",
      " 5   days_since_prior_order  float16\n",
      " 6   product_id              int32  \n",
      " 7   add_to_cart_order       int32  \n",
      " 8   reordered               int8   \n",
      " 9   product_name            object \n",
      " 10  aisle_id                int8   \n",
      " 11  department_id           int8   \n",
      " 12  prices                  float16\n",
      " 13  price_range_loc         object \n",
      " 14  busiest_days            object \n",
      " 15  busiest_period_of_day   object \n",
      " 16  max_order               int8   \n",
      " 17  loyalty_flag            object \n",
      " 18  mean_spend              float32\n",
      " 19  spending_flag           object \n",
      " 20  median_order_frequency  float32\n",
      " 21  order_frequency_flag    object \n",
      "dtypes: float16(2), float32(2), int32(2), int8(7), object(9)\n",
      "memory usage: 3.0+ GB\n"
     ]
    }
   ],
   "source": [
    "ords_prods.info()"
   ]
  },
  {
   "cell_type": "code",
   "execution_count": 54,
   "id": "4d468b44",
   "metadata": {},
   "outputs": [
    {
     "data": {
      "text/html": [
       "<div>\n",
       "<style scoped>\n",
       "    .dataframe tbody tr th:only-of-type {\n",
       "        vertical-align: middle;\n",
       "    }\n",
       "\n",
       "    .dataframe tbody tr th {\n",
       "        vertical-align: top;\n",
       "    }\n",
       "\n",
       "    .dataframe thead th {\n",
       "        text-align: right;\n",
       "    }\n",
       "</style>\n",
       "<table border=\"1\" class=\"dataframe\">\n",
       "  <thead>\n",
       "    <tr style=\"text-align: right;\">\n",
       "      <th></th>\n",
       "      <th>order_id</th>\n",
       "      <th>user_id</th>\n",
       "      <th>clients_order_number</th>\n",
       "      <th>orders_day_of_week</th>\n",
       "      <th>order_hour_of_day</th>\n",
       "      <th>days_since_prior_order</th>\n",
       "      <th>product_id</th>\n",
       "      <th>add_to_cart_order</th>\n",
       "      <th>reordered</th>\n",
       "      <th>product_name</th>\n",
       "      <th>...</th>\n",
       "      <th>prices</th>\n",
       "      <th>price_range_loc</th>\n",
       "      <th>busiest_days</th>\n",
       "      <th>busiest_period_of_day</th>\n",
       "      <th>max_order</th>\n",
       "      <th>loyalty_flag</th>\n",
       "      <th>mean_spend</th>\n",
       "      <th>spending_flag</th>\n",
       "      <th>median_order_frequency</th>\n",
       "      <th>order_frequency_flag</th>\n",
       "    </tr>\n",
       "  </thead>\n",
       "  <tbody>\n",
       "    <tr>\n",
       "      <th>0</th>\n",
       "      <td>2539329</td>\n",
       "      <td>1</td>\n",
       "      <td>1</td>\n",
       "      <td>2</td>\n",
       "      <td>8</td>\n",
       "      <td>NaN</td>\n",
       "      <td>196</td>\n",
       "      <td>1</td>\n",
       "      <td>0</td>\n",
       "      <td>Soda</td>\n",
       "      <td>...</td>\n",
       "      <td>9.0</td>\n",
       "      <td>Mid-range product</td>\n",
       "      <td>regularly busy days</td>\n",
       "      <td>least orders</td>\n",
       "      <td>10</td>\n",
       "      <td>New customer</td>\n",
       "      <td>6.367796</td>\n",
       "      <td>Low spender</td>\n",
       "      <td>20.5</td>\n",
       "      <td>Non-frequent customer</td>\n",
       "    </tr>\n",
       "    <tr>\n",
       "      <th>1</th>\n",
       "      <td>2398795</td>\n",
       "      <td>1</td>\n",
       "      <td>2</td>\n",
       "      <td>3</td>\n",
       "      <td>7</td>\n",
       "      <td>15.0</td>\n",
       "      <td>196</td>\n",
       "      <td>1</td>\n",
       "      <td>1</td>\n",
       "      <td>Soda</td>\n",
       "      <td>...</td>\n",
       "      <td>9.0</td>\n",
       "      <td>Mid-range product</td>\n",
       "      <td>least busy days</td>\n",
       "      <td>least orders</td>\n",
       "      <td>10</td>\n",
       "      <td>New customer</td>\n",
       "      <td>6.367796</td>\n",
       "      <td>Low spender</td>\n",
       "      <td>20.5</td>\n",
       "      <td>Non-frequent customer</td>\n",
       "    </tr>\n",
       "    <tr>\n",
       "      <th>2</th>\n",
       "      <td>473747</td>\n",
       "      <td>1</td>\n",
       "      <td>3</td>\n",
       "      <td>3</td>\n",
       "      <td>12</td>\n",
       "      <td>21.0</td>\n",
       "      <td>196</td>\n",
       "      <td>1</td>\n",
       "      <td>1</td>\n",
       "      <td>Soda</td>\n",
       "      <td>...</td>\n",
       "      <td>9.0</td>\n",
       "      <td>Mid-range product</td>\n",
       "      <td>least busy days</td>\n",
       "      <td>most orders</td>\n",
       "      <td>10</td>\n",
       "      <td>New customer</td>\n",
       "      <td>6.367796</td>\n",
       "      <td>Low spender</td>\n",
       "      <td>20.5</td>\n",
       "      <td>Non-frequent customer</td>\n",
       "    </tr>\n",
       "    <tr>\n",
       "      <th>3</th>\n",
       "      <td>2254736</td>\n",
       "      <td>1</td>\n",
       "      <td>4</td>\n",
       "      <td>4</td>\n",
       "      <td>7</td>\n",
       "      <td>29.0</td>\n",
       "      <td>196</td>\n",
       "      <td>1</td>\n",
       "      <td>1</td>\n",
       "      <td>Soda</td>\n",
       "      <td>...</td>\n",
       "      <td>9.0</td>\n",
       "      <td>Mid-range product</td>\n",
       "      <td>least busy days</td>\n",
       "      <td>least orders</td>\n",
       "      <td>10</td>\n",
       "      <td>New customer</td>\n",
       "      <td>6.367796</td>\n",
       "      <td>Low spender</td>\n",
       "      <td>20.5</td>\n",
       "      <td>Non-frequent customer</td>\n",
       "    </tr>\n",
       "    <tr>\n",
       "      <th>4</th>\n",
       "      <td>431534</td>\n",
       "      <td>1</td>\n",
       "      <td>5</td>\n",
       "      <td>4</td>\n",
       "      <td>15</td>\n",
       "      <td>28.0</td>\n",
       "      <td>196</td>\n",
       "      <td>1</td>\n",
       "      <td>1</td>\n",
       "      <td>Soda</td>\n",
       "      <td>...</td>\n",
       "      <td>9.0</td>\n",
       "      <td>Mid-range product</td>\n",
       "      <td>least busy days</td>\n",
       "      <td>most orders</td>\n",
       "      <td>10</td>\n",
       "      <td>New customer</td>\n",
       "      <td>6.367796</td>\n",
       "      <td>Low spender</td>\n",
       "      <td>20.5</td>\n",
       "      <td>Non-frequent customer</td>\n",
       "    </tr>\n",
       "  </tbody>\n",
       "</table>\n",
       "<p>5 rows × 22 columns</p>\n",
       "</div>"
      ],
      "text/plain": [
       "  order_id user_id  clients_order_number  orders_day_of_week  \\\n",
       "0  2539329       1                     1                   2   \n",
       "1  2398795       1                     2                   3   \n",
       "2   473747       1                     3                   3   \n",
       "3  2254736       1                     4                   4   \n",
       "4   431534       1                     5                   4   \n",
       "\n",
       "   order_hour_of_day  days_since_prior_order  product_id  add_to_cart_order  \\\n",
       "0                  8                     NaN         196                  1   \n",
       "1                  7                    15.0         196                  1   \n",
       "2                 12                    21.0         196                  1   \n",
       "3                  7                    29.0         196                  1   \n",
       "4                 15                    28.0         196                  1   \n",
       "\n",
       "   reordered product_name  ...  prices    price_range_loc  \\\n",
       "0          0         Soda  ...     9.0  Mid-range product   \n",
       "1          1         Soda  ...     9.0  Mid-range product   \n",
       "2          1         Soda  ...     9.0  Mid-range product   \n",
       "3          1         Soda  ...     9.0  Mid-range product   \n",
       "4          1         Soda  ...     9.0  Mid-range product   \n",
       "\n",
       "          busiest_days busiest_period_of_day max_order  loyalty_flag  \\\n",
       "0  regularly busy days          least orders        10  New customer   \n",
       "1      least busy days          least orders        10  New customer   \n",
       "2      least busy days           most orders        10  New customer   \n",
       "3      least busy days          least orders        10  New customer   \n",
       "4      least busy days           most orders        10  New customer   \n",
       "\n",
       "   mean_spend spending_flag  median_order_frequency   order_frequency_flag  \n",
       "0    6.367796   Low spender                    20.5  Non-frequent customer  \n",
       "1    6.367796   Low spender                    20.5  Non-frequent customer  \n",
       "2    6.367796   Low spender                    20.5  Non-frequent customer  \n",
       "3    6.367796   Low spender                    20.5  Non-frequent customer  \n",
       "4    6.367796   Low spender                    20.5  Non-frequent customer  \n",
       "\n",
       "[5 rows x 22 columns]"
      ]
     },
     "execution_count": 54,
     "metadata": {},
     "output_type": "execute_result"
    }
   ],
   "source": [
    "ords_prods.head()"
   ]
  },
  {
   "cell_type": "code",
   "execution_count": 55,
   "id": "01baa1c3",
   "metadata": {},
   "outputs": [
    {
     "name": "stdout",
     "output_type": "stream",
     "text": [
      "<class 'pandas.core.frame.DataFrame'>\n",
      "RangeIndex: 206209 entries, 0 to 206208\n",
      "Data columns (total 8 columns):\n",
      " #   Column          Non-Null Count   Dtype         \n",
      "---  ------          --------------   -----         \n",
      " 0   user_id         206209 non-null  object        \n",
      " 1   gender          206209 non-null  object        \n",
      " 2   state           206209 non-null  object        \n",
      " 3   age             206209 non-null  int8          \n",
      " 4   date_joined     206209 non-null  datetime64[ns]\n",
      " 5   n_dependants    206209 non-null  int8          \n",
      " 6   marital_status  206209 non-null  object        \n",
      " 7   income          206209 non-null  int32         \n",
      "dtypes: datetime64[ns](1), int32(1), int8(2), object(4)\n",
      "memory usage: 9.0+ MB\n"
     ]
    }
   ],
   "source": [
    "# checking for _merge column & ensuring the key columns are same data type\n",
    "df_customers.info()"
   ]
  },
  {
   "cell_type": "code",
   "execution_count": 68,
   "id": "57988ce8",
   "metadata": {},
   "outputs": [],
   "source": [
    "#merging tables on orders_prods using 'inner' statement\n",
    "df_orders_products_customers = ords_prods.merge(df_customers, on=['user_id'], indicator=True)"
   ]
  },
  {
   "cell_type": "code",
   "execution_count": 58,
   "id": "4ea43c0f",
   "metadata": {},
   "outputs": [
    {
     "data": {
      "text/html": [
       "<div>\n",
       "<style scoped>\n",
       "    .dataframe tbody tr th:only-of-type {\n",
       "        vertical-align: middle;\n",
       "    }\n",
       "\n",
       "    .dataframe tbody tr th {\n",
       "        vertical-align: top;\n",
       "    }\n",
       "\n",
       "    .dataframe thead th {\n",
       "        text-align: right;\n",
       "    }\n",
       "</style>\n",
       "<table border=\"1\" class=\"dataframe\">\n",
       "  <thead>\n",
       "    <tr style=\"text-align: right;\">\n",
       "      <th></th>\n",
       "      <th>order_id</th>\n",
       "      <th>user_id</th>\n",
       "      <th>clients_order_number</th>\n",
       "      <th>orders_day_of_week</th>\n",
       "      <th>order_hour_of_day</th>\n",
       "      <th>days_since_prior_order</th>\n",
       "      <th>product_id</th>\n",
       "      <th>add_to_cart_order</th>\n",
       "      <th>reordered</th>\n",
       "      <th>product_name</th>\n",
       "      <th>...</th>\n",
       "      <th>median_order_frequency</th>\n",
       "      <th>order_frequency_flag</th>\n",
       "      <th>gender</th>\n",
       "      <th>state</th>\n",
       "      <th>age</th>\n",
       "      <th>date_joined</th>\n",
       "      <th>n_dependants</th>\n",
       "      <th>marital_status</th>\n",
       "      <th>income</th>\n",
       "      <th>_merge</th>\n",
       "    </tr>\n",
       "  </thead>\n",
       "  <tbody>\n",
       "    <tr>\n",
       "      <th>0</th>\n",
       "      <td>2539329</td>\n",
       "      <td>1</td>\n",
       "      <td>1</td>\n",
       "      <td>2</td>\n",
       "      <td>8</td>\n",
       "      <td>NaN</td>\n",
       "      <td>196</td>\n",
       "      <td>1</td>\n",
       "      <td>0</td>\n",
       "      <td>Soda</td>\n",
       "      <td>...</td>\n",
       "      <td>20.5</td>\n",
       "      <td>Non-frequent customer</td>\n",
       "      <td>Female</td>\n",
       "      <td>Alabama</td>\n",
       "      <td>31</td>\n",
       "      <td>2019-02-17</td>\n",
       "      <td>3</td>\n",
       "      <td>married</td>\n",
       "      <td>40423</td>\n",
       "      <td>both</td>\n",
       "    </tr>\n",
       "    <tr>\n",
       "      <th>1</th>\n",
       "      <td>2398795</td>\n",
       "      <td>1</td>\n",
       "      <td>2</td>\n",
       "      <td>3</td>\n",
       "      <td>7</td>\n",
       "      <td>15.0</td>\n",
       "      <td>196</td>\n",
       "      <td>1</td>\n",
       "      <td>1</td>\n",
       "      <td>Soda</td>\n",
       "      <td>...</td>\n",
       "      <td>20.5</td>\n",
       "      <td>Non-frequent customer</td>\n",
       "      <td>Female</td>\n",
       "      <td>Alabama</td>\n",
       "      <td>31</td>\n",
       "      <td>2019-02-17</td>\n",
       "      <td>3</td>\n",
       "      <td>married</td>\n",
       "      <td>40423</td>\n",
       "      <td>both</td>\n",
       "    </tr>\n",
       "    <tr>\n",
       "      <th>2</th>\n",
       "      <td>473747</td>\n",
       "      <td>1</td>\n",
       "      <td>3</td>\n",
       "      <td>3</td>\n",
       "      <td>12</td>\n",
       "      <td>21.0</td>\n",
       "      <td>196</td>\n",
       "      <td>1</td>\n",
       "      <td>1</td>\n",
       "      <td>Soda</td>\n",
       "      <td>...</td>\n",
       "      <td>20.5</td>\n",
       "      <td>Non-frequent customer</td>\n",
       "      <td>Female</td>\n",
       "      <td>Alabama</td>\n",
       "      <td>31</td>\n",
       "      <td>2019-02-17</td>\n",
       "      <td>3</td>\n",
       "      <td>married</td>\n",
       "      <td>40423</td>\n",
       "      <td>both</td>\n",
       "    </tr>\n",
       "    <tr>\n",
       "      <th>3</th>\n",
       "      <td>2254736</td>\n",
       "      <td>1</td>\n",
       "      <td>4</td>\n",
       "      <td>4</td>\n",
       "      <td>7</td>\n",
       "      <td>29.0</td>\n",
       "      <td>196</td>\n",
       "      <td>1</td>\n",
       "      <td>1</td>\n",
       "      <td>Soda</td>\n",
       "      <td>...</td>\n",
       "      <td>20.5</td>\n",
       "      <td>Non-frequent customer</td>\n",
       "      <td>Female</td>\n",
       "      <td>Alabama</td>\n",
       "      <td>31</td>\n",
       "      <td>2019-02-17</td>\n",
       "      <td>3</td>\n",
       "      <td>married</td>\n",
       "      <td>40423</td>\n",
       "      <td>both</td>\n",
       "    </tr>\n",
       "    <tr>\n",
       "      <th>4</th>\n",
       "      <td>431534</td>\n",
       "      <td>1</td>\n",
       "      <td>5</td>\n",
       "      <td>4</td>\n",
       "      <td>15</td>\n",
       "      <td>28.0</td>\n",
       "      <td>196</td>\n",
       "      <td>1</td>\n",
       "      <td>1</td>\n",
       "      <td>Soda</td>\n",
       "      <td>...</td>\n",
       "      <td>20.5</td>\n",
       "      <td>Non-frequent customer</td>\n",
       "      <td>Female</td>\n",
       "      <td>Alabama</td>\n",
       "      <td>31</td>\n",
       "      <td>2019-02-17</td>\n",
       "      <td>3</td>\n",
       "      <td>married</td>\n",
       "      <td>40423</td>\n",
       "      <td>both</td>\n",
       "    </tr>\n",
       "  </tbody>\n",
       "</table>\n",
       "<p>5 rows × 30 columns</p>\n",
       "</div>"
      ],
      "text/plain": [
       "  order_id user_id  clients_order_number  orders_day_of_week  \\\n",
       "0  2539329       1                     1                   2   \n",
       "1  2398795       1                     2                   3   \n",
       "2   473747       1                     3                   3   \n",
       "3  2254736       1                     4                   4   \n",
       "4   431534       1                     5                   4   \n",
       "\n",
       "   order_hour_of_day  days_since_prior_order  product_id  add_to_cart_order  \\\n",
       "0                  8                     NaN         196                  1   \n",
       "1                  7                    15.0         196                  1   \n",
       "2                 12                    21.0         196                  1   \n",
       "3                  7                    29.0         196                  1   \n",
       "4                 15                    28.0         196                  1   \n",
       "\n",
       "   reordered product_name  ...  median_order_frequency   order_frequency_flag  \\\n",
       "0          0         Soda  ...                    20.5  Non-frequent customer   \n",
       "1          1         Soda  ...                    20.5  Non-frequent customer   \n",
       "2          1         Soda  ...                    20.5  Non-frequent customer   \n",
       "3          1         Soda  ...                    20.5  Non-frequent customer   \n",
       "4          1         Soda  ...                    20.5  Non-frequent customer   \n",
       "\n",
       "   gender    state age date_joined  n_dependants marital_status  income _merge  \n",
       "0  Female  Alabama  31  2019-02-17             3        married   40423   both  \n",
       "1  Female  Alabama  31  2019-02-17             3        married   40423   both  \n",
       "2  Female  Alabama  31  2019-02-17             3        married   40423   both  \n",
       "3  Female  Alabama  31  2019-02-17             3        married   40423   both  \n",
       "4  Female  Alabama  31  2019-02-17             3        married   40423   both  \n",
       "\n",
       "[5 rows x 30 columns]"
      ]
     },
     "execution_count": 58,
     "metadata": {},
     "output_type": "execute_result"
    }
   ],
   "source": [
    "#checking columns\n",
    "df_orders_products_customers.head()"
   ]
  },
  {
   "cell_type": "code",
   "execution_count": 59,
   "id": "435822d5",
   "metadata": {},
   "outputs": [
    {
     "data": {
      "text/plain": [
       "_merge\n",
       "both          32404859\n",
       "left_only            0\n",
       "right_only           0\n",
       "Name: count, dtype: int64"
      ]
     },
     "execution_count": 59,
     "metadata": {},
     "output_type": "execute_result"
    }
   ],
   "source": [
    "df_orders_products_customers['_merge'].value_counts(dropna=False)"
   ]
  },
  {
   "cell_type": "code",
   "execution_count": 60,
   "id": "71c82650",
   "metadata": {},
   "outputs": [],
   "source": [
    "#drop _merge column\n",
    "df_orders_products_customers = df_orders_products_customers.drop(columns=['_merge'])"
   ]
  },
  {
   "cell_type": "code",
   "execution_count": 61,
   "id": "a48684c6",
   "metadata": {},
   "outputs": [
    {
     "name": "stdout",
     "output_type": "stream",
     "text": [
      "<class 'pandas.core.frame.DataFrame'>\n",
      "RangeIndex: 32404859 entries, 0 to 32404858\n",
      "Data columns (total 29 columns):\n",
      " #   Column                  Dtype         \n",
      "---  ------                  -----         \n",
      " 0   order_id                object        \n",
      " 1   user_id                 object        \n",
      " 2   clients_order_number    int8          \n",
      " 3   orders_day_of_week      int8          \n",
      " 4   order_hour_of_day       int8          \n",
      " 5   days_since_prior_order  float16       \n",
      " 6   product_id              int32         \n",
      " 7   add_to_cart_order       int32         \n",
      " 8   reordered               int8          \n",
      " 9   product_name            object        \n",
      " 10  aisle_id                int8          \n",
      " 11  department_id           int8          \n",
      " 12  prices                  float16       \n",
      " 13  price_range_loc         object        \n",
      " 14  busiest_days            object        \n",
      " 15  busiest_period_of_day   object        \n",
      " 16  max_order               int8          \n",
      " 17  loyalty_flag            object        \n",
      " 18  mean_spend              float32       \n",
      " 19  spending_flag           object        \n",
      " 20  median_order_frequency  float32       \n",
      " 21  order_frequency_flag    object        \n",
      " 22  gender                  object        \n",
      " 23  state                   object        \n",
      " 24  age                     int8          \n",
      " 25  date_joined             datetime64[ns]\n",
      " 26  n_dependants            int8          \n",
      " 27  marital_status          object        \n",
      " 28  income                  int32         \n",
      "dtypes: datetime64[ns](1), float16(2), float32(2), int32(3), int8(9), object(12)\n",
      "memory usage: 4.1+ GB\n"
     ]
    }
   ],
   "source": [
    "df_orders_products_customers.info()"
   ]
  },
  {
   "cell_type": "markdown",
   "id": "c1e7dae8",
   "metadata": {},
   "source": [
    "## Export merged dataset"
   ]
  },
  {
   "cell_type": "code",
   "execution_count": 63,
   "id": "94a2aca7",
   "metadata": {},
   "outputs": [],
   "source": [
    "#Export df_ords_prods_merge to PKL\n",
    "df_orders_products_customers.to_pickle(os.path.join(path,'Prepared Data', 'orders_products_customers_updated.pkl'))"
   ]
  },
  {
   "cell_type": "code",
   "execution_count": 73,
   "id": "012438f2",
   "metadata": {},
   "outputs": [],
   "source": [
    "#loading garbage collector\n",
    "import gc"
   ]
  },
  {
   "cell_type": "code",
   "execution_count": 75,
   "id": "0219d9b4",
   "metadata": {},
   "outputs": [
    {
     "ename": "NameError",
     "evalue": "name 'df_orders_products_customers' is not defined",
     "output_type": "error",
     "traceback": [
      "\u001b[0;31m---------------------------------------------------------------------------\u001b[0m",
      "\u001b[0;31mNameError\u001b[0m                                 Traceback (most recent call last)",
      "Cell \u001b[0;32mIn[75], line 3\u001b[0m\n\u001b[1;32m      1\u001b[0m \u001b[38;5;66;03m#delete df to save space \u001b[39;00m\n\u001b[0;32m----> 3\u001b[0m \u001b[38;5;28;01mdel\u001b[39;00m df_orders_products_customers\n\u001b[1;32m      4\u001b[0m \u001b[38;5;28;01mdel\u001b[39;00m df_dups\n\u001b[1;32m      6\u001b[0m gc\u001b[38;5;241m.\u001b[39mcollect()\n",
      "\u001b[0;31mNameError\u001b[0m: name 'df_orders_products_customers' is not defined"
     ]
    }
   ],
   "source": [
    "#delete df to save space \n",
    "\n",
    "del df_orders_products_customers\n",
    "del df_dups\n",
    "\n",
    "gc.collect()"
   ]
  },
  {
   "cell_type": "code",
   "execution_count": null,
   "id": "7a839f73",
   "metadata": {},
   "outputs": [],
   "source": []
  }
 ],
 "metadata": {
  "kernelspec": {
   "display_name": "Python 3 (ipykernel)",
   "language": "python",
   "name": "python3"
  },
  "language_info": {
   "codemirror_mode": {
    "name": "ipython",
    "version": 3
   },
   "file_extension": ".py",
   "mimetype": "text/x-python",
   "name": "python",
   "nbconvert_exporter": "python",
   "pygments_lexer": "ipython3",
   "version": "3.11.5"
  }
 },
 "nbformat": 4,
 "nbformat_minor": 5
}

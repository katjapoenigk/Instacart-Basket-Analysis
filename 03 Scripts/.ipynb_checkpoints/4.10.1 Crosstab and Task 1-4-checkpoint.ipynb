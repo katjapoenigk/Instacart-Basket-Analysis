{
 "cells": [
  {
   "cell_type": "markdown",
   "id": "24e4c9db",
   "metadata": {},
   "source": [
    "# Table of Contents\n",
    "### Importing Libaries and Data Sets\n",
    "### Crosstab\n",
    "### Task 2 Considering PII, Security Implications\n",
    "### Task 3 Creating region(s) flag from the state column\n",
    "### Comparing spending habits normalized in each region\n",
    "### Chart showing low and high spenders normalized number of customers in each region\n",
    "### Task 4 Creating an exclusion flag for low-activity customers (customers with less than 5 orders)"
   ]
  },
  {
   "cell_type": "markdown",
   "id": "39a5d9ed",
   "metadata": {},
   "source": [
    "## 1. Importing libraries and data sets"
   ]
  },
  {
   "cell_type": "code",
   "execution_count": 1,
   "id": "69c84b49",
   "metadata": {},
   "outputs": [],
   "source": [
    "#Import Libraries\n",
    "import pandas as pd\n",
    "import numpy as np\n",
    "import os\n",
    "import matplotlib.pyplot as plt\n",
    "import seaborn as sns\n",
    "import scipy\n",
    "import matplotlib as mpl"
   ]
  },
  {
   "cell_type": "code",
   "execution_count": 2,
   "id": "6fbe370c",
   "metadata": {},
   "outputs": [],
   "source": [
    "#creating pathway for dataframes\n",
    "path = os.path.join(r'/Users/katja/Documents/Instacart Basket Analysis/02 Data')"
   ]
  },
  {
   "cell_type": "code",
   "execution_count": 3,
   "id": "0fdb38b0",
   "metadata": {},
   "outputs": [],
   "source": [
    "#import orders_products_customer_updated\n",
    "ords_prods =pd.read_pickle(os.path.join(path,'Prepared Data', 'orders_products_customers_updated.pkl'))"
   ]
  },
  {
   "cell_type": "code",
   "execution_count": 4,
   "id": "e76331b5",
   "metadata": {},
   "outputs": [],
   "source": [
    "#loading garbage collector\n",
    "import gc"
   ]
  },
  {
   "cell_type": "code",
   "execution_count": 5,
   "id": "31811c71",
   "metadata": {},
   "outputs": [
    {
     "name": "stdout",
     "output_type": "stream",
     "text": [
      "<class 'pandas.core.frame.DataFrame'>\n",
      "RangeIndex: 32404859 entries, 0 to 32404858\n",
      "Data columns (total 29 columns):\n",
      " #   Column                  Dtype         \n",
      "---  ------                  -----         \n",
      " 0   order_id                object        \n",
      " 1   user_id                 object        \n",
      " 2   clients_order_number    int8          \n",
      " 3   orders_day_of_week      int8          \n",
      " 4   order_hour_of_day       int8          \n",
      " 5   days_since_prior_order  float16       \n",
      " 6   product_id              int32         \n",
      " 7   add_to_cart_order       int32         \n",
      " 8   reordered               int8          \n",
      " 9   product_name            object        \n",
      " 10  aisle_id                int8          \n",
      " 11  department_id           int8          \n",
      " 12  prices                  float32       \n",
      " 13  price_range_loc         object        \n",
      " 14  busiest_days            object        \n",
      " 15  busiest_period_of_day   object        \n",
      " 16  max_order               int8          \n",
      " 17  loyalty_flag            object        \n",
      " 18  mean_spend              float32       \n",
      " 19  spending_flag           object        \n",
      " 20  median_order_frequency  float32       \n",
      " 21  order_frequency_flag    object        \n",
      " 22  gender                  object        \n",
      " 23  state                   object        \n",
      " 24  age                     int8          \n",
      " 25  date_joined             datetime64[ns]\n",
      " 26  n_dependants            int8          \n",
      " 27  marital_status          object        \n",
      " 28  income                  int32         \n",
      "dtypes: datetime64[ns](1), float16(1), float32(3), int32(3), int8(9), object(12)\n",
      "memory usage: 4.2+ GB\n"
     ]
    }
   ],
   "source": [
    "ords_prods.info()"
   ]
  },
  {
   "cell_type": "code",
   "execution_count": 6,
   "id": "129724d5",
   "metadata": {},
   "outputs": [
    {
     "data": {
      "text/html": [
       "<div>\n",
       "<style scoped>\n",
       "    .dataframe tbody tr th:only-of-type {\n",
       "        vertical-align: middle;\n",
       "    }\n",
       "\n",
       "    .dataframe tbody tr th {\n",
       "        vertical-align: top;\n",
       "    }\n",
       "\n",
       "    .dataframe thead th {\n",
       "        text-align: right;\n",
       "    }\n",
       "</style>\n",
       "<table border=\"1\" class=\"dataframe\">\n",
       "  <thead>\n",
       "    <tr style=\"text-align: right;\">\n",
       "      <th></th>\n",
       "      <th>order_id</th>\n",
       "      <th>user_id</th>\n",
       "      <th>clients_order_number</th>\n",
       "      <th>orders_day_of_week</th>\n",
       "      <th>order_hour_of_day</th>\n",
       "      <th>days_since_prior_order</th>\n",
       "      <th>product_id</th>\n",
       "      <th>add_to_cart_order</th>\n",
       "      <th>reordered</th>\n",
       "      <th>product_name</th>\n",
       "      <th>...</th>\n",
       "      <th>spending_flag</th>\n",
       "      <th>median_order_frequency</th>\n",
       "      <th>order_frequency_flag</th>\n",
       "      <th>gender</th>\n",
       "      <th>state</th>\n",
       "      <th>age</th>\n",
       "      <th>date_joined</th>\n",
       "      <th>n_dependants</th>\n",
       "      <th>marital_status</th>\n",
       "      <th>income</th>\n",
       "    </tr>\n",
       "  </thead>\n",
       "  <tbody>\n",
       "    <tr>\n",
       "      <th>0</th>\n",
       "      <td>2539329</td>\n",
       "      <td>1</td>\n",
       "      <td>1</td>\n",
       "      <td>2</td>\n",
       "      <td>8</td>\n",
       "      <td>NaN</td>\n",
       "      <td>196</td>\n",
       "      <td>1</td>\n",
       "      <td>0</td>\n",
       "      <td>Soda</td>\n",
       "      <td>...</td>\n",
       "      <td>Low spender</td>\n",
       "      <td>20.5</td>\n",
       "      <td>Non-frequent customer</td>\n",
       "      <td>Female</td>\n",
       "      <td>Alabama</td>\n",
       "      <td>31</td>\n",
       "      <td>2019-02-17</td>\n",
       "      <td>3</td>\n",
       "      <td>married</td>\n",
       "      <td>40423</td>\n",
       "    </tr>\n",
       "    <tr>\n",
       "      <th>1</th>\n",
       "      <td>2398795</td>\n",
       "      <td>1</td>\n",
       "      <td>2</td>\n",
       "      <td>3</td>\n",
       "      <td>7</td>\n",
       "      <td>15.0</td>\n",
       "      <td>196</td>\n",
       "      <td>1</td>\n",
       "      <td>1</td>\n",
       "      <td>Soda</td>\n",
       "      <td>...</td>\n",
       "      <td>Low spender</td>\n",
       "      <td>20.5</td>\n",
       "      <td>Non-frequent customer</td>\n",
       "      <td>Female</td>\n",
       "      <td>Alabama</td>\n",
       "      <td>31</td>\n",
       "      <td>2019-02-17</td>\n",
       "      <td>3</td>\n",
       "      <td>married</td>\n",
       "      <td>40423</td>\n",
       "    </tr>\n",
       "    <tr>\n",
       "      <th>2</th>\n",
       "      <td>473747</td>\n",
       "      <td>1</td>\n",
       "      <td>3</td>\n",
       "      <td>3</td>\n",
       "      <td>12</td>\n",
       "      <td>21.0</td>\n",
       "      <td>196</td>\n",
       "      <td>1</td>\n",
       "      <td>1</td>\n",
       "      <td>Soda</td>\n",
       "      <td>...</td>\n",
       "      <td>Low spender</td>\n",
       "      <td>20.5</td>\n",
       "      <td>Non-frequent customer</td>\n",
       "      <td>Female</td>\n",
       "      <td>Alabama</td>\n",
       "      <td>31</td>\n",
       "      <td>2019-02-17</td>\n",
       "      <td>3</td>\n",
       "      <td>married</td>\n",
       "      <td>40423</td>\n",
       "    </tr>\n",
       "    <tr>\n",
       "      <th>3</th>\n",
       "      <td>2254736</td>\n",
       "      <td>1</td>\n",
       "      <td>4</td>\n",
       "      <td>4</td>\n",
       "      <td>7</td>\n",
       "      <td>29.0</td>\n",
       "      <td>196</td>\n",
       "      <td>1</td>\n",
       "      <td>1</td>\n",
       "      <td>Soda</td>\n",
       "      <td>...</td>\n",
       "      <td>Low spender</td>\n",
       "      <td>20.5</td>\n",
       "      <td>Non-frequent customer</td>\n",
       "      <td>Female</td>\n",
       "      <td>Alabama</td>\n",
       "      <td>31</td>\n",
       "      <td>2019-02-17</td>\n",
       "      <td>3</td>\n",
       "      <td>married</td>\n",
       "      <td>40423</td>\n",
       "    </tr>\n",
       "    <tr>\n",
       "      <th>4</th>\n",
       "      <td>431534</td>\n",
       "      <td>1</td>\n",
       "      <td>5</td>\n",
       "      <td>4</td>\n",
       "      <td>15</td>\n",
       "      <td>28.0</td>\n",
       "      <td>196</td>\n",
       "      <td>1</td>\n",
       "      <td>1</td>\n",
       "      <td>Soda</td>\n",
       "      <td>...</td>\n",
       "      <td>Low spender</td>\n",
       "      <td>20.5</td>\n",
       "      <td>Non-frequent customer</td>\n",
       "      <td>Female</td>\n",
       "      <td>Alabama</td>\n",
       "      <td>31</td>\n",
       "      <td>2019-02-17</td>\n",
       "      <td>3</td>\n",
       "      <td>married</td>\n",
       "      <td>40423</td>\n",
       "    </tr>\n",
       "  </tbody>\n",
       "</table>\n",
       "<p>5 rows × 29 columns</p>\n",
       "</div>"
      ],
      "text/plain": [
       "  order_id user_id  clients_order_number  orders_day_of_week  \\\n",
       "0  2539329       1                     1                   2   \n",
       "1  2398795       1                     2                   3   \n",
       "2   473747       1                     3                   3   \n",
       "3  2254736       1                     4                   4   \n",
       "4   431534       1                     5                   4   \n",
       "\n",
       "   order_hour_of_day  days_since_prior_order  product_id  add_to_cart_order  \\\n",
       "0                  8                     NaN         196                  1   \n",
       "1                  7                    15.0         196                  1   \n",
       "2                 12                    21.0         196                  1   \n",
       "3                  7                    29.0         196                  1   \n",
       "4                 15                    28.0         196                  1   \n",
       "\n",
       "   reordered product_name  ...  spending_flag  median_order_frequency  \\\n",
       "0          0         Soda  ...    Low spender                    20.5   \n",
       "1          1         Soda  ...    Low spender                    20.5   \n",
       "2          1         Soda  ...    Low spender                    20.5   \n",
       "3          1         Soda  ...    Low spender                    20.5   \n",
       "4          1         Soda  ...    Low spender                    20.5   \n",
       "\n",
       "    order_frequency_flag  gender    state age  date_joined n_dependants  \\\n",
       "0  Non-frequent customer  Female  Alabama  31   2019-02-17            3   \n",
       "1  Non-frequent customer  Female  Alabama  31   2019-02-17            3   \n",
       "2  Non-frequent customer  Female  Alabama  31   2019-02-17            3   \n",
       "3  Non-frequent customer  Female  Alabama  31   2019-02-17            3   \n",
       "4  Non-frequent customer  Female  Alabama  31   2019-02-17            3   \n",
       "\n",
       "   marital_status income  \n",
       "0         married  40423  \n",
       "1         married  40423  \n",
       "2         married  40423  \n",
       "3         married  40423  \n",
       "4         married  40423  \n",
       "\n",
       "[5 rows x 29 columns]"
      ]
     },
     "execution_count": 6,
     "metadata": {},
     "output_type": "execute_result"
    }
   ],
   "source": [
    "# Checking df\n",
    "\n",
    "ords_prods.head()"
   ]
  },
  {
   "cell_type": "markdown",
   "id": "5cf5b5db",
   "metadata": {},
   "source": [
    "## Crosstab"
   ]
  },
  {
   "cell_type": "code",
   "execution_count": 8,
   "id": "6e743f78",
   "metadata": {},
   "outputs": [],
   "source": [
    "#Change type for clients_order_number for ords_prods from float16 to float 32 cos of Error Message for Crosstab\n",
    "\n",
    "ords_prods['days_since_prior_order']=ords_prods['days_since_prior_order'].astype('float32')"
   ]
  },
  {
   "cell_type": "code",
   "execution_count": 9,
   "id": "9e8e14c6",
   "metadata": {},
   "outputs": [],
   "source": [
    "# Create Crosstab for 'days_since_prior_order'\n",
    "crosstab = pd.crosstab(ords_prods['days_since_prior_order'], ords_prods['clients_order_number'], dropna = False)"
   ]
  },
  {
   "cell_type": "code",
   "execution_count": 10,
   "id": "411801bf",
   "metadata": {},
   "outputs": [],
   "source": [
    "crosstab.to_clipboard()"
   ]
  },
  {
   "cell_type": "code",
   "execution_count": 11,
   "id": "4cf39e59",
   "metadata": {},
   "outputs": [
    {
     "data": {
      "text/plain": [
       "1394"
      ]
     },
     "execution_count": 11,
     "metadata": {},
     "output_type": "execute_result"
    }
   ],
   "source": [
    "#delete crosstab to save space \n",
    "\n",
    "del crosstab\n",
    "\n",
    "gc.collect()"
   ]
  },
  {
   "cell_type": "markdown",
   "id": "6bd2098c",
   "metadata": {},
   "source": [
    "## Task 2. Consider any security implications that might exist for this new data. You’ll need to address any PII data in the data before continuing your analysis.\n",
    "\n",
    "### reviewing column headers above  for PHI implications. PII data column 'first_name' and 'last_name' were previously removed, no changes made this time."
   ]
  },
  {
   "cell_type": "markdown",
   "id": "05329389",
   "metadata": {},
   "source": [
    "## Task 3. Analysis of Regional Sales\n",
    "\n",
    "### Creating a 'Region' Column"
   ]
  },
  {
   "cell_type": "code",
   "execution_count": 13,
   "id": "b6747376",
   "metadata": {},
   "outputs": [],
   "source": [
    "# Creating a for-loop for 'region'\n",
    "\n",
    "result = []\n",
    "\n",
    "for value in ords_prods['state']:\n",
    "    if value in ('Maine', 'New Hampshire', 'Vermont', 'Massachusetts', 'Rhode Island', 'Connecticut', 'New York', \n",
    "                 'Pennsylvania', 'New Jersey'):\n",
    "        result.append('Northeast')\n",
    "    elif value in ('Wisconsin', 'Michigan', 'Illinois', 'Indiana', 'Ohio', 'North Dakota' , 'South Dakota', 'Nebraska', \n",
    "                   'Kansas', 'Minnesota', 'Iowa', 'Missouri'):\n",
    "        result.append('Midwest')\n",
    "    elif value in ('Delaware', 'Maryland', 'District of Columbia', 'Virginia', 'West Virginia', 'North Carolina', \n",
    "                   'South Carolina', 'Georgia', 'Florida', 'Kentucky', 'Tennessee', 'Mississippi', 'Alabama', \n",
    "                   'Oklahoma', 'Texas', 'Arkansas', 'Louisiana'):\n",
    "        result.append('South')\n",
    "    elif value in ('Idaho', 'Montana', 'Wyoming', 'Nevada', 'Utah', 'Colorado', 'Arizona', 'New Mexico', 'Alaska', \n",
    "                   'Washington', 'Oregon', 'California', 'Hawaii'):\n",
    "        result.append('West')\n",
    "    else:\n",
    "        result.append('Unknown')  "
   ]
  },
  {
   "cell_type": "code",
   "execution_count": 15,
   "id": "96b46d79",
   "metadata": {},
   "outputs": [],
   "source": [
    "# Creating a new \"Region\" column with the result list\n",
    "\n",
    "ords_prods['region'] = result"
   ]
  },
  {
   "cell_type": "code",
   "execution_count": 16,
   "id": "57ae27c7",
   "metadata": {},
   "outputs": [
    {
     "data": {
      "text/plain": [
       "region\n",
       "South        10791885\n",
       "West          8292913\n",
       "Midwest       7597325\n",
       "Northeast     5722736\n",
       "Name: count, dtype: int64"
      ]
     },
     "execution_count": 16,
     "metadata": {},
     "output_type": "execute_result"
    }
   ],
   "source": [
    "# value counts for the new column\n",
    "\n",
    "ords_prods['region'].value_counts(dropna = False)"
   ]
  },
  {
   "cell_type": "code",
   "execution_count": 17,
   "id": "11a78b22",
   "metadata": {},
   "outputs": [
    {
     "data": {
      "text/plain": [
       "32404859"
      ]
     },
     "execution_count": 17,
     "metadata": {},
     "output_type": "execute_result"
    }
   ],
   "source": [
    "# Checking if the numbers adds up to the total number of records in the data frame\n",
    "\n",
    "10791885 + 8292913 + 7597325 + 5722736"
   ]
  },
  {
   "cell_type": "markdown",
   "id": "2be93d61",
   "metadata": {},
   "source": [
    "### Comparing spending habits in each region"
   ]
  },
  {
   "cell_type": "code",
   "execution_count": 18,
   "id": "fcfd80ea",
   "metadata": {},
   "outputs": [],
   "source": [
    "#Creating new pivot table for 'region' and 'spending_flag'\n",
    "\n",
    "df_region_spending = ords_prods.pivot_table(index='region', columns='spending_flag', values='order_id', aggfunc='count', fill_value=0)"
   ]
  },
  {
   "cell_type": "code",
   "execution_count": 19,
   "id": "ff1e14d2",
   "metadata": {},
   "outputs": [
    {
     "data": {
      "text/html": [
       "<div>\n",
       "<style scoped>\n",
       "    .dataframe tbody tr th:only-of-type {\n",
       "        vertical-align: middle;\n",
       "    }\n",
       "\n",
       "    .dataframe tbody tr th {\n",
       "        vertical-align: top;\n",
       "    }\n",
       "\n",
       "    .dataframe thead th {\n",
       "        text-align: right;\n",
       "    }\n",
       "</style>\n",
       "<table border=\"1\" class=\"dataframe\">\n",
       "  <thead>\n",
       "    <tr style=\"text-align: right;\">\n",
       "      <th>spending_flag</th>\n",
       "      <th>High spender</th>\n",
       "      <th>Low spender</th>\n",
       "    </tr>\n",
       "    <tr>\n",
       "      <th>region</th>\n",
       "      <th></th>\n",
       "      <th></th>\n",
       "    </tr>\n",
       "  </thead>\n",
       "  <tbody>\n",
       "    <tr>\n",
       "      <th>Midwest</th>\n",
       "      <td>155975</td>\n",
       "      <td>7441350</td>\n",
       "    </tr>\n",
       "    <tr>\n",
       "      <th>Northeast</th>\n",
       "      <td>108225</td>\n",
       "      <td>5614511</td>\n",
       "    </tr>\n",
       "    <tr>\n",
       "      <th>South</th>\n",
       "      <td>209691</td>\n",
       "      <td>10582194</td>\n",
       "    </tr>\n",
       "    <tr>\n",
       "      <th>West</th>\n",
       "      <td>160354</td>\n",
       "      <td>8132559</td>\n",
       "    </tr>\n",
       "  </tbody>\n",
       "</table>\n",
       "</div>"
      ],
      "text/plain": [
       "spending_flag  High spender  Low spender\n",
       "region                                  \n",
       "Midwest              155975      7441350\n",
       "Northeast            108225      5614511\n",
       "South                209691     10582194\n",
       "West                 160354      8132559"
      ]
     },
     "execution_count": 19,
     "metadata": {},
     "output_type": "execute_result"
    }
   ],
   "source": [
    "df_region_spending.head()"
   ]
  },
  {
   "cell_type": "code",
   "execution_count": 21,
   "id": "b4c11472",
   "metadata": {},
   "outputs": [],
   "source": [
    "# To normalize the spending_flag column based on the number of customers in each region:\n",
    "# First, calculate the total number of customers in each region\n",
    "\n",
    "total_customers = ords_prods.groupby('region')['user_id'].count()"
   ]
  },
  {
   "cell_type": "code",
   "execution_count": 22,
   "id": "c65e6fa3",
   "metadata": {},
   "outputs": [
    {
     "data": {
      "text/plain": [
       "region\n",
       "Midwest       7597325\n",
       "Northeast     5722736\n",
       "South        10791885\n",
       "West          8292913\n",
       "Name: user_id, dtype: int64"
      ]
     },
     "execution_count": 22,
     "metadata": {},
     "output_type": "execute_result"
    }
   ],
   "source": [
    "total_customers"
   ]
  },
  {
   "cell_type": "code",
   "execution_count": 23,
   "id": "7757eb27",
   "metadata": {},
   "outputs": [],
   "source": [
    "# Normalize the counts by dividing by the total customers in each region\n",
    "\n",
    "result_normalized = df_region_spending.div(total_customers, axis=0)"
   ]
  },
  {
   "cell_type": "code",
   "execution_count": 24,
   "id": "826181a3",
   "metadata": {},
   "outputs": [
    {
     "data": {
      "text/html": [
       "<div>\n",
       "<style scoped>\n",
       "    .dataframe tbody tr th:only-of-type {\n",
       "        vertical-align: middle;\n",
       "    }\n",
       "\n",
       "    .dataframe tbody tr th {\n",
       "        vertical-align: top;\n",
       "    }\n",
       "\n",
       "    .dataframe thead th {\n",
       "        text-align: right;\n",
       "    }\n",
       "</style>\n",
       "<table border=\"1\" class=\"dataframe\">\n",
       "  <thead>\n",
       "    <tr style=\"text-align: right;\">\n",
       "      <th>spending_flag</th>\n",
       "      <th>High spender</th>\n",
       "      <th>Low spender</th>\n",
       "    </tr>\n",
       "    <tr>\n",
       "      <th>region</th>\n",
       "      <th></th>\n",
       "      <th></th>\n",
       "    </tr>\n",
       "  </thead>\n",
       "  <tbody>\n",
       "    <tr>\n",
       "      <th>Midwest</th>\n",
       "      <td>0.020530</td>\n",
       "      <td>0.979470</td>\n",
       "    </tr>\n",
       "    <tr>\n",
       "      <th>Northeast</th>\n",
       "      <td>0.018911</td>\n",
       "      <td>0.981089</td>\n",
       "    </tr>\n",
       "    <tr>\n",
       "      <th>South</th>\n",
       "      <td>0.019430</td>\n",
       "      <td>0.980570</td>\n",
       "    </tr>\n",
       "    <tr>\n",
       "      <th>West</th>\n",
       "      <td>0.019336</td>\n",
       "      <td>0.980664</td>\n",
       "    </tr>\n",
       "  </tbody>\n",
       "</table>\n",
       "</div>"
      ],
      "text/plain": [
       "spending_flag  High spender  Low spender\n",
       "region                                  \n",
       "Midwest            0.020530     0.979470\n",
       "Northeast          0.018911     0.981089\n",
       "South              0.019430     0.980570\n",
       "West               0.019336     0.980664"
      ]
     },
     "execution_count": 24,
     "metadata": {},
     "output_type": "execute_result"
    }
   ],
   "source": [
    "result_normalized"
   ]
  },
  {
   "cell_type": "code",
   "execution_count": 25,
   "id": "464dac40",
   "metadata": {},
   "outputs": [],
   "source": [
    "# Multiply by 100 to gain result as a percentage\n",
    "result_normalized_percent = result_normalized * 100"
   ]
  },
  {
   "cell_type": "code",
   "execution_count": 26,
   "id": "40d74e02",
   "metadata": {},
   "outputs": [
    {
     "data": {
      "text/html": [
       "<div>\n",
       "<style scoped>\n",
       "    .dataframe tbody tr th:only-of-type {\n",
       "        vertical-align: middle;\n",
       "    }\n",
       "\n",
       "    .dataframe tbody tr th {\n",
       "        vertical-align: top;\n",
       "    }\n",
       "\n",
       "    .dataframe thead th {\n",
       "        text-align: right;\n",
       "    }\n",
       "</style>\n",
       "<table border=\"1\" class=\"dataframe\">\n",
       "  <thead>\n",
       "    <tr style=\"text-align: right;\">\n",
       "      <th>spending_flag</th>\n",
       "      <th>High spender</th>\n",
       "      <th>Low spender</th>\n",
       "    </tr>\n",
       "    <tr>\n",
       "      <th>region</th>\n",
       "      <th></th>\n",
       "      <th></th>\n",
       "    </tr>\n",
       "  </thead>\n",
       "  <tbody>\n",
       "    <tr>\n",
       "      <th>Midwest</th>\n",
       "      <td>2.053025</td>\n",
       "      <td>97.946975</td>\n",
       "    </tr>\n",
       "    <tr>\n",
       "      <th>Northeast</th>\n",
       "      <td>1.891141</td>\n",
       "      <td>98.108859</td>\n",
       "    </tr>\n",
       "    <tr>\n",
       "      <th>South</th>\n",
       "      <td>1.943043</td>\n",
       "      <td>98.056957</td>\n",
       "    </tr>\n",
       "    <tr>\n",
       "      <th>West</th>\n",
       "      <td>1.933627</td>\n",
       "      <td>98.066373</td>\n",
       "    </tr>\n",
       "  </tbody>\n",
       "</table>\n",
       "</div>"
      ],
      "text/plain": [
       "spending_flag  High spender  Low spender\n",
       "region                                  \n",
       "Midwest            2.053025    97.946975\n",
       "Northeast          1.891141    98.108859\n",
       "South              1.943043    98.056957\n",
       "West               1.933627    98.066373"
      ]
     },
     "execution_count": 26,
     "metadata": {},
     "output_type": "execute_result"
    }
   ],
   "source": [
    "result_normalized_percent"
   ]
  },
  {
   "cell_type": "code",
   "execution_count": 31,
   "id": "0fc076d3",
   "metadata": {},
   "outputs": [
    {
     "data": {
      "image/png": "[encoded data removed]",
      "text/plain": [
       "<Figure size 640x480 with 1 Axes>"
      ]
     },
     "metadata": {},
     "output_type": "display_data"
    }
   ],
   "source": [
    "# Create a grouped bar chart from the result_normalized_percent results\n",
    "\n",
    "spending_region_bar = result_normalized_percent.plot.bar()\n",
    "\n",
    "# Add labels\n",
    "plt.xlabel('Region')\n",
    "plt.ylabel('Percentage')\n",
    "plt.title('Percentage of High & Low Spenders by Region')\n",
    "\n",
    "# Adjust the layout to ensure everything fits\n",
    "plt.tight_layout()"
   ]
  },
  {
   "cell_type": "markdown",
   "id": "f1357d15",
   "metadata": {},
   "source": [
    "### Export Barchart Percentage of High & Low Spenders by Region"
   ]
  },
  {
   "cell_type": "code",
   "execution_count": 32,
   "id": "e01c06c6",
   "metadata": {},
   "outputs": [],
   "source": [
    "spending_region_bar.figure.savefig(os.path.join(r'/Users/katja/Documents/Instacart Basket Analysis/04 Analysis/Visualizations/spending_region_bar.png'))"
   ]
  },
  {
   "cell_type": "code",
   "execution_count": 33,
   "id": "cce09141",
   "metadata": {},
   "outputs": [
    {
     "data": {
      "text/plain": [
       "7240"
      ]
     },
     "execution_count": 33,
     "metadata": {},
     "output_type": "execute_result"
    }
   ],
   "source": [
    "#delete df to save space \n",
    "\n",
    "del spending_region_bar\n",
    "del df_region_spending\n",
    "del total_customers\n",
    "del result_normalized\n",
    "del result_normalized_percent\n",
    "\n",
    "gc.collect()"
   ]
  },
  {
   "cell_type": "markdown",
   "id": "0a481aaf",
   "metadata": {},
   "source": [
    "## Task 4. Create an exclusion flag for low-activity customers (customers with less than 5 orders) and exclude them from the data. Export this sample."
   ]
  },
  {
   "cell_type": "code",
   "execution_count": 36,
   "id": "aca7958d",
   "metadata": {},
   "outputs": [],
   "source": [
    "# Creating exclusion flag\n",
    "\n",
    "ords_prods['exclusion_flag'] = np.where(ords_prods['max_order'] < 5, 'Yes', 'No')"
   ]
  },
  {
   "cell_type": "code",
   "execution_count": 39,
   "id": "6eb74dfa",
   "metadata": {},
   "outputs": [
    {
     "data": {
      "text/html": [
       "<div>\n",
       "<style scoped>\n",
       "    .dataframe tbody tr th:only-of-type {\n",
       "        vertical-align: middle;\n",
       "    }\n",
       "\n",
       "    .dataframe tbody tr th {\n",
       "        vertical-align: top;\n",
       "    }\n",
       "\n",
       "    .dataframe thead th {\n",
       "        text-align: right;\n",
       "    }\n",
       "</style>\n",
       "<table border=\"1\" class=\"dataframe\">\n",
       "  <thead>\n",
       "    <tr style=\"text-align: right;\">\n",
       "      <th></th>\n",
       "      <th>order_id</th>\n",
       "      <th>user_id</th>\n",
       "      <th>clients_order_number</th>\n",
       "      <th>orders_day_of_week</th>\n",
       "      <th>order_hour_of_day</th>\n",
       "      <th>days_since_prior_order</th>\n",
       "      <th>product_id</th>\n",
       "      <th>add_to_cart_order</th>\n",
       "      <th>reordered</th>\n",
       "      <th>product_name</th>\n",
       "      <th>...</th>\n",
       "      <th>order_frequency_flag</th>\n",
       "      <th>gender</th>\n",
       "      <th>state</th>\n",
       "      <th>age</th>\n",
       "      <th>date_joined</th>\n",
       "      <th>n_dependants</th>\n",
       "      <th>marital_status</th>\n",
       "      <th>income</th>\n",
       "      <th>region</th>\n",
       "      <th>exclusion_flag</th>\n",
       "    </tr>\n",
       "  </thead>\n",
       "  <tbody>\n",
       "    <tr>\n",
       "      <th>0</th>\n",
       "      <td>2539329</td>\n",
       "      <td>1</td>\n",
       "      <td>1</td>\n",
       "      <td>2</td>\n",
       "      <td>8</td>\n",
       "      <td>NaN</td>\n",
       "      <td>196</td>\n",
       "      <td>1</td>\n",
       "      <td>0</td>\n",
       "      <td>Soda</td>\n",
       "      <td>...</td>\n",
       "      <td>Non-frequent customer</td>\n",
       "      <td>Female</td>\n",
       "      <td>Alabama</td>\n",
       "      <td>31</td>\n",
       "      <td>2019-02-17</td>\n",
       "      <td>3</td>\n",
       "      <td>married</td>\n",
       "      <td>40423</td>\n",
       "      <td>South</td>\n",
       "      <td>No</td>\n",
       "    </tr>\n",
       "    <tr>\n",
       "      <th>1</th>\n",
       "      <td>2398795</td>\n",
       "      <td>1</td>\n",
       "      <td>2</td>\n",
       "      <td>3</td>\n",
       "      <td>7</td>\n",
       "      <td>15.0</td>\n",
       "      <td>196</td>\n",
       "      <td>1</td>\n",
       "      <td>1</td>\n",
       "      <td>Soda</td>\n",
       "      <td>...</td>\n",
       "      <td>Non-frequent customer</td>\n",
       "      <td>Female</td>\n",
       "      <td>Alabama</td>\n",
       "      <td>31</td>\n",
       "      <td>2019-02-17</td>\n",
       "      <td>3</td>\n",
       "      <td>married</td>\n",
       "      <td>40423</td>\n",
       "      <td>South</td>\n",
       "      <td>No</td>\n",
       "    </tr>\n",
       "    <tr>\n",
       "      <th>2</th>\n",
       "      <td>473747</td>\n",
       "      <td>1</td>\n",
       "      <td>3</td>\n",
       "      <td>3</td>\n",
       "      <td>12</td>\n",
       "      <td>21.0</td>\n",
       "      <td>196</td>\n",
       "      <td>1</td>\n",
       "      <td>1</td>\n",
       "      <td>Soda</td>\n",
       "      <td>...</td>\n",
       "      <td>Non-frequent customer</td>\n",
       "      <td>Female</td>\n",
       "      <td>Alabama</td>\n",
       "      <td>31</td>\n",
       "      <td>2019-02-17</td>\n",
       "      <td>3</td>\n",
       "      <td>married</td>\n",
       "      <td>40423</td>\n",
       "      <td>South</td>\n",
       "      <td>No</td>\n",
       "    </tr>\n",
       "    <tr>\n",
       "      <th>3</th>\n",
       "      <td>2254736</td>\n",
       "      <td>1</td>\n",
       "      <td>4</td>\n",
       "      <td>4</td>\n",
       "      <td>7</td>\n",
       "      <td>29.0</td>\n",
       "      <td>196</td>\n",
       "      <td>1</td>\n",
       "      <td>1</td>\n",
       "      <td>Soda</td>\n",
       "      <td>...</td>\n",
       "      <td>Non-frequent customer</td>\n",
       "      <td>Female</td>\n",
       "      <td>Alabama</td>\n",
       "      <td>31</td>\n",
       "      <td>2019-02-17</td>\n",
       "      <td>3</td>\n",
       "      <td>married</td>\n",
       "      <td>40423</td>\n",
       "      <td>South</td>\n",
       "      <td>No</td>\n",
       "    </tr>\n",
       "    <tr>\n",
       "      <th>4</th>\n",
       "      <td>431534</td>\n",
       "      <td>1</td>\n",
       "      <td>5</td>\n",
       "      <td>4</td>\n",
       "      <td>15</td>\n",
       "      <td>28.0</td>\n",
       "      <td>196</td>\n",
       "      <td>1</td>\n",
       "      <td>1</td>\n",
       "      <td>Soda</td>\n",
       "      <td>...</td>\n",
       "      <td>Non-frequent customer</td>\n",
       "      <td>Female</td>\n",
       "      <td>Alabama</td>\n",
       "      <td>31</td>\n",
       "      <td>2019-02-17</td>\n",
       "      <td>3</td>\n",
       "      <td>married</td>\n",
       "      <td>40423</td>\n",
       "      <td>South</td>\n",
       "      <td>No</td>\n",
       "    </tr>\n",
       "  </tbody>\n",
       "</table>\n",
       "<p>5 rows × 31 columns</p>\n",
       "</div>"
      ],
      "text/plain": [
       "  order_id user_id  clients_order_number  orders_day_of_week  \\\n",
       "0  2539329       1                     1                   2   \n",
       "1  2398795       1                     2                   3   \n",
       "2   473747       1                     3                   3   \n",
       "3  2254736       1                     4                   4   \n",
       "4   431534       1                     5                   4   \n",
       "\n",
       "   order_hour_of_day  days_since_prior_order  product_id  add_to_cart_order  \\\n",
       "0                  8                     NaN         196                  1   \n",
       "1                  7                    15.0         196                  1   \n",
       "2                 12                    21.0         196                  1   \n",
       "3                  7                    29.0         196                  1   \n",
       "4                 15                    28.0         196                  1   \n",
       "\n",
       "   reordered product_name  ...   order_frequency_flag  gender    state age  \\\n",
       "0          0         Soda  ...  Non-frequent customer  Female  Alabama  31   \n",
       "1          1         Soda  ...  Non-frequent customer  Female  Alabama  31   \n",
       "2          1         Soda  ...  Non-frequent customer  Female  Alabama  31   \n",
       "3          1         Soda  ...  Non-frequent customer  Female  Alabama  31   \n",
       "4          1         Soda  ...  Non-frequent customer  Female  Alabama  31   \n",
       "\n",
       "  date_joined n_dependants  marital_status income  region exclusion_flag  \n",
       "0  2019-02-17            3         married  40423   South             No  \n",
       "1  2019-02-17            3         married  40423   South             No  \n",
       "2  2019-02-17            3         married  40423   South             No  \n",
       "3  2019-02-17            3         married  40423   South             No  \n",
       "4  2019-02-17            3         married  40423   South             No  \n",
       "\n",
       "[5 rows x 31 columns]"
      ]
     },
     "execution_count": 39,
     "metadata": {},
     "output_type": "execute_result"
    }
   ],
   "source": [
    "# Checking new column\n",
    "\n",
    "ords_prods.head()"
   ]
  },
  {
   "cell_type": "code",
   "execution_count": 40,
   "id": "1ed55e9c",
   "metadata": {},
   "outputs": [],
   "source": [
    "# Creating a new data frame for all the customers who have ordered fewer than 5 times.\n",
    "\n",
    "df_cust_below_five_ord = ords_prods[ords_prods['exclusion_flag'] == 'Yes']"
   ]
  },
  {
   "cell_type": "code",
   "execution_count": 41,
   "id": "81eea82b",
   "metadata": {},
   "outputs": [
    {
     "data": {
      "text/plain": [
       "(1440295, 31)"
      ]
     },
     "execution_count": 41,
     "metadata": {},
     "output_type": "execute_result"
    }
   ],
   "source": [
    "df_cust_below_five_ord.shape"
   ]
  },
  {
   "cell_type": "code",
   "execution_count": 42,
   "id": "37c59f0a",
   "metadata": {},
   "outputs": [],
   "source": [
    "# Exporting df_cust_below_five_ord with the \"under 5 orders\" records\n",
    "\n",
    "df_cust_below_five_ord.to_pickle(os.path.join(path,'Prepared Data', 'df_below_five_order.pkl'))"
   ]
  },
  {
   "cell_type": "code",
   "execution_count": 43,
   "id": "974d6fc4",
   "metadata": {},
   "outputs": [],
   "source": [
    "# Removing the \"under 5 orders\" records from the main data\n",
    "\n",
    "ords_prods = ords_prods[ords_prods['exclusion_flag'] != 'Yes']"
   ]
  },
  {
   "cell_type": "code",
   "execution_count": 44,
   "id": "ad764461",
   "metadata": {},
   "outputs": [
    {
     "data": {
      "text/plain": [
       "(30964564, 31)"
      ]
     },
     "execution_count": 44,
     "metadata": {},
     "output_type": "execute_result"
    }
   ],
   "source": [
    "ords_prods.shape"
   ]
  },
  {
   "cell_type": "code",
   "execution_count": 45,
   "id": "7940cee4",
   "metadata": {},
   "outputs": [
    {
     "data": {
      "text/plain": [
       "32404859"
      ]
     },
     "execution_count": 45,
     "metadata": {},
     "output_type": "execute_result"
    }
   ],
   "source": [
    "# Checking that the new amount of records in the main data, plus the number of records in the excluded records\n",
    "# data frame, matches the original data frame record number.\n",
    "\n",
    "1440295 + 30964564"
   ]
  },
  {
   "cell_type": "markdown",
   "id": "f3b74269",
   "metadata": {},
   "source": [
    "### Export Dataset (to include changes of exclusion of low activity users)"
   ]
  },
  {
   "cell_type": "code",
   "execution_count": 46,
   "id": "9ba91165",
   "metadata": {},
   "outputs": [],
   "source": [
    "#Export ords_prods to PKL\n",
    "ords_prods.to_pickle(os.path.join(path,'Prepared Data', 'orders_products_customers_updated.pkl'))"
   ]
  },
  {
   "cell_type": "code",
   "execution_count": 48,
   "id": "47e415de",
   "metadata": {},
   "outputs": [
    {
     "data": {
      "text/plain": [
       "2391"
      ]
     },
     "execution_count": 48,
     "metadata": {},
     "output_type": "execute_result"
    }
   ],
   "source": [
    "#delete df to save space \n",
    "\n",
    "del ords_prods\n",
    "del df_cust_below_five_ord\n",
    "\n",
    "\n",
    "gc.collect()"
   ]
  },
  {
   "cell_type": "code",
   "execution_count": null,
   "id": "8cfb5f10",
   "metadata": {},
   "outputs": [],
   "source": []
  }
 ],
 "metadata": {
  "kernelspec": {
   "display_name": "Python 3 (ipykernel)",
   "language": "python",
   "name": "python3"
  },
  "language_info": {
   "codemirror_mode": {
    "name": "ipython",
    "version": 3
   },
   "file_extension": ".py",
   "mimetype": "text/x-python",
   "name": "python",
   "nbconvert_exporter": "python",
   "pygments_lexer": "ipython3",
   "version": "3.11.5"
  }
 },
 "nbformat": 4,
 "nbformat_minor": 5
}
